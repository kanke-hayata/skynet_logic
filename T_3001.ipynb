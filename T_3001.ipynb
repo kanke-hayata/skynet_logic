{
 "cells": [
  {
   "cell_type": "code",
   "execution_count": 1,
   "metadata": {},
   "outputs": [],
   "source": [
    "import pandas as pd\n",
    "import matplotlib.pyplot as plt\n",
    "import pickle\n",
    "import xgboost\n",
    "import sys\n",
    "sys.path.append(\"./skynet/bf/src/scripts/\")\n",
    "import xgboost_ohlc\n",
    "import utils\n",
    "import numpy as np\n",
    "import seaborn as sns\n",
    "import talib\n",
    "import datetime\n",
    "import requests\n",
    "import time\n",
    "%matplotlib inline\n",
    "\n",
    "pd.set_option('display.max_columns', 300)\n",
    "pd.set_option('display.max_rows', 500)\n",
    "pd.options.display.precision = 10"
   ]
  },
  {
   "cell_type": "code",
   "execution_count": 81,
   "metadata": {},
   "outputs": [],
   "source": [
    "version = '3001'\n",
    "rate = 0.00035\n",
    "data_size=200000\n",
    "data_columns = ['MACDS/O','RSI','ATR/O','Time','C/O','O-1/C','H/O','L/O']\n",
    "target_column = 'Target_Over'\n",
    "backtest_columns = ['Open','High','Low','Close']"
   ]
  },
  {
   "cell_type": "code",
   "execution_count": 9,
   "metadata": {},
   "outputs": [
    {
     "name": "stderr",
     "output_type": "stream",
     "text": [
      "/Users/yata/.pyenv/versions/3.8.0/lib/python3.8/site-packages/pandas/core/computation/expressions.py:177: UserWarning: evaluating in Python space because the '*' operator is not supported by numexpr for the bool dtype, use '&' instead\n",
      "  warnings.warn(\n",
      "[Parallel(n_jobs=1)]: Using backend SequentialBackend with 1 concurrent workers.\n"
     ]
    },
    {
     "name": "stdout",
     "output_type": "stream",
     "text": [
      "Fitting 5 folds for each of 18 candidates, totalling 90 fits\n"
     ]
    },
    {
     "name": "stderr",
     "output_type": "stream",
     "text": [
      "[Parallel(n_jobs=1)]: Done  90 out of  90 | elapsed:  8.6min finished\n"
     ]
    },
    {
     "name": "stdout",
     "output_type": "stream",
     "text": [
      "0.587\n",
      "Fitting 5 folds for each of 18 candidates, totalling 90 fits\n"
     ]
    },
    {
     "name": "stderr",
     "output_type": "stream",
     "text": [
      "[Parallel(n_jobs=1)]: Using backend SequentialBackend with 1 concurrent workers.\n",
      "[Parallel(n_jobs=1)]: Done  90 out of  90 | elapsed:  8.6min finished\n"
     ]
    }
   ],
   "source": [
    "five = pd.read_csv('skynet/bf/data/processed/min_five.csv')\n",
    "five = utils.shaping_ohlc(five,data_columns+[target_column]+backtest_columns,over_rate=rate).dropna()\n",
    "xgbc,predict,test,all_data = xgboost_ohlc.c_model_generate(version=version,ohlc=five,data_columns=data_columns,target_column=target_column,data_size=data_size)"
   ]
  },
  {
   "cell_type": "code",
   "execution_count": 16,
   "metadata": {},
   "outputs": [
    {
     "name": "stderr",
     "output_type": "stream",
     "text": [
      "/Users/yata/.pyenv/versions/3.8.0/lib/python3.8/site-packages/pandas/core/computation/expressions.py:177: UserWarning: evaluating in Python space because the '*' operator is not supported by numexpr for the bool dtype, use '&' instead\n",
      "  warnings.warn(\n"
     ]
    }
   ],
   "source": [
    "five = pd.read_csv('skynet/bf/data/processed/min_five.csv')\n",
    "five = utils.shaping_ohlc(five,data_columns+[target_column]+['Close'],over_rate=rate).dropna()"
   ]
  },
  {
   "cell_type": "code",
   "execution_count": 112,
   "metadata": {},
   "outputs": [],
   "source": [
    "five_real = utils.get_ohlc(periods=300,datasize=5000,api_key=False)"
   ]
  },
  {
   "cell_type": "code",
   "execution_count": 146,
   "metadata": {},
   "outputs": [
    {
     "name": "stdout",
     "output_type": "stream",
     "text": [
      "0.6215435410647957\n"
     ]
    },
    {
     "data": {
      "text/plain": [
       "[<matplotlib.lines.Line2D at 0x1254347f0>]"
      ]
     },
     "execution_count": 146,
     "metadata": {},
     "output_type": "execute_result"
    },
    {
     "data": {
      "image/png": "[encoded data removed]",
      "text/plain": [
       "<Figure size 432x288 with 1 Axes>"
      ]
     },
     "metadata": {
      "needs_background": "light"
     },
     "output_type": "display_data"
    }
   ],
   "source": [
    "five_real = utils.get_ohlc(periods=300,datasize=5000,api_key=False)\n",
    "five_real =  utils.shaping_ohlc(five_real,data_columns+[target_column]+backtest_columns,over_rate=rate).dropna()\n",
    "real_predict = xgbc.predict(five_real[data_columns])\n",
    "\n",
    "income = [0]\n",
    "predict = real_predict\n",
    "backtest = five_real\n",
    "cnt = [0]\n",
    "cnt2 = [0]\n",
    "cnt3 = [0]\n",
    "cnt4 = [0]\n",
    "cnt5 = [0]\n",
    "cnt6 = 0\n",
    "gain = 6\n",
    "\n",
    "print((predict == backtest['Target_Over']).mean())\n",
    "\n",
    "for i in range(len(predict)-1):\n",
    "    if predict[i] == 1 and backtest['Target_Over'].values[i] == 1:\n",
    "        income.append(income[-1]+backtest['Close'].values[i]*rate*2*0.01)\n",
    "        cnt.append(cnt[-1]+backtest['Close'].values[i]*rate*2*0.01)\n",
    "    elif predict[i] == 1 and backtest['Target_Over'].values[i] == 0:\n",
    "        if backtest['Close'].values[i]*(1-rate) <backtest['Low'].shift(-1).values[i] and backtest['High'].shift(-1).values[i] < backtest['Close'].values[i]*(1+rate):\n",
    "            income.append(income[-1])\n",
    "            cnt6  += 1\n",
    "            \n",
    "        elif backtest['Close'].values[i]*(1-rate) < backtest['Low'].shift(-1).values[i]:\n",
    "            if backtest['High'].shift(-1).values[i] >= backtest['Close'].values[i]*(1+gain*rate):\n",
    "                income.append(income[-1]-0.01*backtest['Close'].values[i]*rate*(gain-1))\n",
    "                cnt2.append(cnt2[-1]-0.01*backtest['Close'].values[i]*rate*(gain-1)-1)\n",
    "            else:\n",
    "                income.append(income[-1]+0.01*(backtest['Close'].values[i]*(1+rate)-backtest['Close'].shift(-1).values[i]))\n",
    "                cnt3.append(cnt3[-1]+0.01*(backtest['Close'].values[i]*(1+rate)-backtest['Close'].shift(-1).values[i]))\n",
    "                \n",
    "        elif backtest['High'].shift(-1).values[i] < backtest['Close'].values[i]*(1+rate):\n",
    "            if backtest['Low'].shift(-1).values[i] <= backtest['Close'].values[i]*(1-gain*rate):\n",
    "                income.append(income[-1]-0.01*backtest['Close'].values[i]*rate*(gain-1))\n",
    "                cnt4.append(cnt4[-1]-0.01*backtest['Close'].values[i]*rate*(gain-1)-1)\n",
    "            else:\n",
    "                income.append(income[-1]+0.01*(backtest['Close'].shift(-1).values[i]-backtest['Close'].values[i]*(1-rate)))\n",
    "                cnt5.append(cnt5[-1]+0.01*(backtest['Close'].shift(-1).values[i]-backtest['Close'].values[i]*(1-rate)))\n",
    "    else:\n",
    "        income.append(income[-1])\n",
    "        \n",
    "plt.plot(income)"
   ]
  },
  {
   "cell_type": "code",
   "execution_count": 121,
   "metadata": {},
   "outputs": [
    {
     "data": {
      "text/plain": [
       "23815.432424000024"
      ]
     },
     "execution_count": 121,
     "metadata": {},
     "output_type": "execute_result"
    }
   ],
   "source": [
    "cnt[-1]"
   ]
  },
  {
   "cell_type": "code",
   "execution_count": 129,
   "metadata": {},
   "outputs": [
    {
     "data": {
      "text/plain": [
       "-5963.155716000001"
      ]
     },
     "execution_count": 129,
     "metadata": {},
     "output_type": "execute_result"
    }
   ],
   "source": [
    "cnt2[-1]"
   ]
  },
  {
   "cell_type": "code",
   "execution_count": 130,
   "metadata": {},
   "outputs": [
    {
     "data": {
      "text/plain": [
       "18.142741000026"
      ]
     },
     "execution_count": 130,
     "metadata": {},
     "output_type": "execute_result"
    }
   ],
   "source": [
    "cnt3[-1]"
   ]
  },
  {
   "cell_type": "code",
   "execution_count": 131,
   "metadata": {},
   "outputs": [
    {
     "data": {
      "text/plain": [
       "-5469.807504"
      ]
     },
     "execution_count": 131,
     "metadata": {},
     "output_type": "execute_result"
    }
   ],
   "source": [
    "cnt4[-1]"
   ]
  },
  {
   "cell_type": "code",
   "execution_count": 132,
   "metadata": {},
   "outputs": [
    {
     "data": {
      "text/plain": [
       "17.60677149998722"
      ]
     },
     "execution_count": 132,
     "metadata": {},
     "output_type": "execute_result"
    }
   ],
   "source": [
    "cnt5[-1]"
   ]
  },
  {
   "cell_type": "code",
   "execution_count": 134,
   "metadata": {},
   "outputs": [
    {
     "data": {
      "text/plain": [
       "1085"
      ]
     },
     "execution_count": 134,
     "metadata": {},
     "output_type": "execute_result"
    }
   ],
   "source": [
    "len(cnt2)+len(cnt4)"
   ]
  },
  {
   "cell_type": "code",
   "execution_count": 136,
   "metadata": {},
   "outputs": [
    {
     "data": {
      "text/plain": [
       "52"
      ]
     },
     "execution_count": 136,
     "metadata": {},
     "output_type": "execute_result"
    }
   ],
   "source": [
    "len(cnt3)+len(cnt5)"
   ]
  },
  {
   "cell_type": "code",
   "execution_count": 133,
   "metadata": {},
   "outputs": [
    {
     "data": {
      "text/plain": [
       "[<matplotlib.lines.Line2D at 0x1250d0d60>]"
      ]
     },
     "execution_count": 133,
     "metadata": {},
     "output_type": "execute_result"
    },
    {
     "data": {
      "image/png": "[encoded data removed]",
      "text/plain": [
       "<Figure size 432x288 with 1 Axes>"
      ]
     },
     "metadata": {
      "needs_background": "light"
     },
     "output_type": "display_data"
    }
   ],
   "source": [
    "plt.plot(cnt3)"
   ]
  },
  {
   "cell_type": "code",
   "execution_count": null,
   "metadata": {},
   "outputs": [],
   "source": [
    "income = [0]\n",
    "backtest = five[-1000:]\n",
    "cnt = 0\n",
    "cnt2 = 0\n",
    "for i in range(999):\n",
    "    if predict[i] == 1 and backtest['Target_Over'].values[i] == 1:\n",
    "        income.append(income[-1]+backtest['Close'].values[i+1]*rate*2*0.01)\n",
    "        cnt += 1\n",
    "    elif predict[i] == 1 and backtest['Target_Over'].values[i] == 0:\n",
    "        income.append(income[-1]-backtest['Close'].values[i+1]*rate*2*0.01)\n",
    "        cnt2 += 1\n",
    "    else:\n",
    "        income.append(income[-1])\n",
    "        \n",
    "plt.plot(income)"
   ]
  },
  {
   "cell_type": "code",
   "execution_count": 102,
   "metadata": {},
   "outputs": [],
   "source": [
    "five = pd.read_csv(\"skynet/bf/data/processed/min_five.csv\")[-200000:]"
   ]
  },
  {
   "cell_type": "code",
   "execution_count": 140,
   "metadata": {},
   "outputs": [
    {
     "name": "stdout",
     "output_type": "stream",
     "text": [
      "0.4788223941119706\n",
      "0.311235\n",
      "0.22896614483072417\n",
      "0.29688648443242216\n",
      "0.1819359096795484\n"
     ]
    }
   ],
   "source": [
    "rate= 0.00035\n",
    "five['In'] = ((five['Open']*(1+rate) <= five['High']) * (five['Open']*(1-rate) >= five['Low'])).shift(-1)\n",
    "five['2In'] = ((five['Open']*(1+6*rate) <= five['High']) | (five['Open']*(1-6*rate) >= five['Low'])).shift(-1).astype(bool)\n",
    "five['d2In'] = ((five['Open']*(1+2*rate) <= five['High']) * (five['Open']*(1-2*rate) >= five['Low'])).shift(-1)\n",
    "five['pureIn'] = five['In'] * (~five['2In'])\n",
    "five['pureIn2'] = five['In'] * (five['2In'])\n",
    "print(five['In'].mean())\n",
    "print(five['2In'].mean())\n",
    "print(five['d2In'].mean())\n",
    "print(five['pureIn'].mean())\n",
    "print(five['pureIn2'].mean())"
   ]
  },
  {
   "cell_type": "code",
   "execution_count": 142,
   "metadata": {},
   "outputs": [
    {
     "data": {
      "text/plain": [
       "0.3799653314397895"
      ]
     },
     "execution_count": 142,
     "metadata": {},
     "output_type": "execute_result"
    }
   ],
   "source": [
    "five[five['In'] == True]['2In'].mean()"
   ]
  }
 ],
 "metadata": {
  "kernelspec": {
   "display_name": "Python 3",
   "language": "python",
   "name": "python3"
  },
  "language_info": {
   "codemirror_mode": {
    "name": "ipython",
    "version": 3
   },
   "file_extension": ".py",
   "mimetype": "text/x-python",
   "name": "python",
   "nbconvert_exporter": "python",
   "pygments_lexer": "ipython3",
   "version": "3.8.0"
  }
 },
 "nbformat": 4,
 "nbformat_minor": 4
}
