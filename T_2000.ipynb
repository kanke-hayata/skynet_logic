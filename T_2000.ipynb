{
 "cells": [
  {
   "cell_type": "code",
   "execution_count": 1,
   "metadata": {},
   "outputs": [],
   "source": [
    "import pandas as pd\n",
    "import matplotlib.pyplot as plt\n",
    "import pickle\n",
    "import xgboost\n",
    "import sys\n",
    "sys.path.append(\"./skynet/bf/src/scripts/\")\n",
    "import xgboost_ohlc\n",
    "import utils\n",
    "import numpy as np\n",
    "import seaborn as sns\n",
    "import talib\n",
    "import datetime\n",
    "import requests\n",
    "import time\n",
    "%matplotlib inline\n",
    "\n",
    "pd.set_option('display.max_columns', 300)\n",
    "pd.set_option('display.max_rows', 500)"
   ]
  },
  {
   "cell_type": "code",
   "execution_count": 2,
   "metadata": {},
   "outputs": [],
   "source": [
    "version = '2000'\n",
    "five = pd.read_csv('skynet/bf/data/processed/min_five.csv')\n",
    "data_columns = ['MACDS/O','UP','FirstUP','C/O','C-1/C','H/O','L/O']\n",
    "target_column = 'Target_UP'\n",
    "backtest_columns = ['timestamp','Target_Close','Target_Open']\n",
    "data_size = 5000\n",
    "test = 0.2\n",
    "test_size = data_size*test\n",
    "test_size = 1000"
   ]
  },
  {
   "cell_type": "code",
   "execution_count": null,
   "metadata": {},
   "outputs": [],
   "source": [
    "five = pd.read_csv('skynet/bf/data/processed/min_five.csv')\n",
    "data_columns = ['MACDS/O','UP','FirstUP','C/O','C-1/C','H/O','L/O','TIme']\n",
    "target_column = 'Target_UP'\n",
    "backtest_columns = ['timestamp','Target_Close','Target_Open']\n",
    "\n",
    "five_for_ml = five[data_columns+[target_column]+backtest_columns].dropna()\n",
    "train = five_for_ml[-data_size:-test_size]\n",
    "test = five_for_ml[-test_size:]\n",
    "backtest = five_for_ml[-test_size:]\n",
    "all_data = five_for_ml[-data_size:]\n",
    "print(five_for_ml['timestamp'].values[0])\n",
    "print(five_for_ml['timestamp'].values[-1])\n",
    "\n",
    "\n",
    "data_train = train[data_columns]\n",
    "data_test = test[data_columns]\n",
    "\n",
    "\n",
    "target_train = train[target_column]\n",
    "target_test = test[target_column]\n",
    "\n",
    "\n",
    "xgbc = xgboost_ohlc.c_fit(data_train, target_train)\n",
    "\n",
    "predict = xgbc.predict(data_test)\n",
    "result = (predict == target_test)\n",
    "print(result.mean())\n",
    "\n",
    "xgbc_all_data = xgboost_ohlc.c_fit(all_data[data_columns],all_data[target_column])\n",
    "train.to_csv(\"skynet/bf/model/T_\"+version+\"/train.csv\")\n",
    "test.to_csv(\"skynet/bf/model/T_\"+version+\"/test.csv\")\n",
    "backtest.to_csv(\"skynet/bf/model/T_\"+version+\"/backtest.csv\")\n",
    "pickle.dump(xgbc_all_data, open(\"skynet/bf/model/T_\"+version+\"/xgbc.pickle\", \"wb\"))\n",
    "with open(\"skynet/bf/model/T_\"+version+\"/spec.txt\", mode=\"w\") as txt:\n",
    "    txt.write(str(datetime.datetime.now())+'\\n')\n",
    "    txt.write('data_columns: '+str(data_columns)+\"\\n\")\n",
    "    txt.write('target_column: '+str(target_column)+\"\\n\")\n",
    "    txt.write('simplescore: '+str(result.mean())+\"\\n\")"
   ]
  },
  {
   "cell_type": "code",
   "execution_count": 4,
   "metadata": {},
   "outputs": [
    {
     "data": {
      "text/plain": [
       "[<matplotlib.lines.Line2D at 0x12011e4c0>]"
      ]
     },
     "execution_count": 4,
     "metadata": {},
     "output_type": "execute_result"
    },
    {
     "data": {
      "image/png": "[encoded data removed]",
      "text/plain": [
       "<Figure size 432x288 with 1 Axes>"
      ]
     },
     "metadata": {
      "needs_background": "light"
     },
     "output_type": "display_data"
    }
   ],
   "source": [
    "plt.plot((0.01*predict*(backtest['Target_Close']-backtest['Target_Open'])).cumsum())"
   ]
  },
  {
   "cell_type": "code",
   "execution_count": null,
   "metadata": {},
   "outputs": [],
   "source": [
    "#########################################\n",
    "#########################################\n",
    "#########################################"
   ]
  },
  {
   "cell_type": "code",
   "execution_count": 8,
   "metadata": {},
   "outputs": [
    {
     "data": {
      "text/plain": [
       "0.515"
      ]
     },
     "execution_count": 8,
     "metadata": {},
     "output_type": "execute_result"
    }
   ],
   "source": [
    "(predict == target_test).mean()"
   ]
  },
  {
   "cell_type": "code",
   "execution_count": 5,
   "metadata": {},
   "outputs": [
    {
     "data": {
      "text/plain": [
       "<matplotlib.axes._subplots.AxesSubplot at 0x1221daf40>"
      ]
     },
     "execution_count": 5,
     "metadata": {},
     "output_type": "execute_result"
    },
    {
     "data": {
      "image/png": "[encoded data removed]",
      "text/plain": [
       "<Figure size 432x288 with 1 Axes>"
      ]
     },
     "metadata": {
      "needs_background": "light"
     },
     "output_type": "display_data"
    }
   ],
   "source": [
    "xgboost.plot_importance(xgbc)"
   ]
  },
  {
   "cell_type": "code",
   "execution_count": 14,
   "metadata": {},
   "outputs": [],
   "source": [
    "ttt = five[['UP','FirstUP','Close']].dropna()[20000:]"
   ]
  },
  {
   "cell_type": "code",
   "execution_count": 18,
   "metadata": {},
   "outputs": [
    {
     "data": {
      "text/plain": [
       "0.6279785582426409"
      ]
     },
     "execution_count": 18,
     "metadata": {},
     "output_type": "execute_result"
    }
   ],
   "source": [
    "(ttt['UP'] == ttt['FirstUP']).mean()"
   ]
  },
  {
   "cell_type": "code",
   "execution_count": 19,
   "metadata": {},
   "outputs": [
    {
     "data": {
      "text/html": [
       "<div>\n",
       "<style scoped>\n",
       "    .dataframe tbody tr th:only-of-type {\n",
       "        vertical-align: middle;\n",
       "    }\n",
       "\n",
       "    .dataframe tbody tr th {\n",
       "        vertical-align: top;\n",
       "    }\n",
       "\n",
       "    .dataframe thead th {\n",
       "        text-align: right;\n",
       "    }\n",
       "</style>\n",
       "<table border=\"1\" class=\"dataframe\">\n",
       "  <thead>\n",
       "    <tr style=\"text-align: right;\">\n",
       "      <th></th>\n",
       "      <th>UP</th>\n",
       "      <th>FirstUP</th>\n",
       "      <th>Close</th>\n",
       "    </tr>\n",
       "  </thead>\n",
       "  <tbody>\n",
       "    <tr>\n",
       "      <th>20375</th>\n",
       "      <td>1</td>\n",
       "      <td>-1.0</td>\n",
       "      <td>43598.0</td>\n",
       "    </tr>\n",
       "    <tr>\n",
       "      <th>20376</th>\n",
       "      <td>-1</td>\n",
       "      <td>-1.0</td>\n",
       "      <td>43570.0</td>\n",
       "    </tr>\n",
       "    <tr>\n",
       "      <th>20377</th>\n",
       "      <td>-1</td>\n",
       "      <td>1.0</td>\n",
       "      <td>43560.0</td>\n",
       "    </tr>\n",
       "    <tr>\n",
       "      <th>20378</th>\n",
       "      <td>1</td>\n",
       "      <td>-1.0</td>\n",
       "      <td>43582.5</td>\n",
       "    </tr>\n",
       "    <tr>\n",
       "      <th>20379</th>\n",
       "      <td>1</td>\n",
       "      <td>-1.0</td>\n",
       "      <td>43591.0</td>\n",
       "    </tr>\n",
       "    <tr>\n",
       "      <th>...</th>\n",
       "      <td>...</td>\n",
       "      <td>...</td>\n",
       "      <td>...</td>\n",
       "    </tr>\n",
       "    <tr>\n",
       "      <th>280465</th>\n",
       "      <td>1</td>\n",
       "      <td>1.0</td>\n",
       "      <td>929030.0</td>\n",
       "    </tr>\n",
       "    <tr>\n",
       "      <th>280466</th>\n",
       "      <td>-1</td>\n",
       "      <td>-1.0</td>\n",
       "      <td>927500.0</td>\n",
       "    </tr>\n",
       "    <tr>\n",
       "      <th>280467</th>\n",
       "      <td>1</td>\n",
       "      <td>1.0</td>\n",
       "      <td>927702.0</td>\n",
       "    </tr>\n",
       "    <tr>\n",
       "      <th>280468</th>\n",
       "      <td>-1</td>\n",
       "      <td>1.0</td>\n",
       "      <td>926932.0</td>\n",
       "    </tr>\n",
       "    <tr>\n",
       "      <th>280469</th>\n",
       "      <td>1</td>\n",
       "      <td>-1.0</td>\n",
       "      <td>928089.0</td>\n",
       "    </tr>\n",
       "  </tbody>\n",
       "</table>\n",
       "<p>258934 rows × 3 columns</p>\n",
       "</div>"
      ],
      "text/plain": [
       "        UP  FirstUP     Close\n",
       "20375    1     -1.0   43598.0\n",
       "20376   -1     -1.0   43570.0\n",
       "20377   -1      1.0   43560.0\n",
       "20378    1     -1.0   43582.5\n",
       "20379    1     -1.0   43591.0\n",
       "...     ..      ...       ...\n",
       "280465   1      1.0  929030.0\n",
       "280466  -1     -1.0  927500.0\n",
       "280467   1      1.0  927702.0\n",
       "280468  -1      1.0  926932.0\n",
       "280469   1     -1.0  928089.0\n",
       "\n",
       "[258934 rows x 3 columns]"
      ]
     },
     "execution_count": 19,
     "metadata": {},
     "output_type": "execute_result"
    }
   ],
   "source": [
    "ttt"
   ]
  }
 ],
 "metadata": {
  "kernelspec": {
   "display_name": "Python 3",
   "language": "python",
   "name": "python3"
  },
  "language_info": {
   "codemirror_mode": {
    "name": "ipython",
    "version": 3
   },
   "file_extension": ".py",
   "mimetype": "text/x-python",
   "name": "python",
   "nbconvert_exporter": "python",
   "pygments_lexer": "ipython3",
   "version": "3.8.0"
  }
 },
 "nbformat": 4,
 "nbformat_minor": 4
}
