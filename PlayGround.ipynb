{
 "cells": [
  {
   "cell_type": "code",
   "execution_count": 1,
   "metadata": {},
   "outputs": [],
   "source": [
    "import pandas as pd\n",
    "import matplotlib.pyplot as plt\n",
    "import pickle\n",
    "import xgboost\n",
    "import sys\n",
    "sys.path.append(\"./skynet/bf/src/scripts/\")\n",
    "import xgboost_ohlc\n",
    "import utils\n",
    "import numpy as np\n",
    "import seaborn as sns\n",
    "import talib\n",
    "import datetime\n",
    "import requests\n",
    "import threading\n",
    "from threading import Thread\n",
    "import os\n",
    "import websocket\n",
    "import signal\n",
    "import pybitflyer\n",
    "import time\n",
    "import dateutil.parser\n",
    "%matplotlib inline\n",
    "\n",
    "pd.set_option('display.max_columns', 300)\n",
    "pd.set_option('display.max_rows', 500)\n",
    "pd.options.display.precision = 10\n",
    "\n",
    "\n",
    "end_point = 'wss://ws.lightstream.bitflyer.com/json-rpc'\n",
    "\n",
    "public_channels = ['lightning_executions_FX_BTC_JPY','lightning_board_snapshot_FX_BTC_JPY']\n",
    "private_channels = ['child_order_events', 'parent_order_events']"
   ]
  },
  {
   "cell_type": "code",
   "execution_count": 123,
   "metadata": {},
   "outputs": [],
   "source": [
    "one = pd.read_csv('skynet/bf/data/processed/min.csv')"
   ]
  },
  {
   "cell_type": "code",
   "execution_count": 78,
   "metadata": {},
   "outputs": [],
   "source": [
    "five = pd.read_csv('skynet/bf/data/processed/min_five.csv')"
   ]
  },
  {
   "cell_type": "code",
   "execution_count": 2,
   "metadata": {},
   "outputs": [],
   "source": [
    "hour = pd.read_csv('skynet/bf/data/processed/hour.csv')"
   ]
  },
  {
   "cell_type": "code",
   "execution_count": 3,
   "metadata": {},
   "outputs": [],
   "source": [
    "hour = utils.shaping_ohlc(hour,['BBUpper','BBMiddle','BBLower','Close','BBOver','BBUnder'])"
   ]
  },
  {
   "cell_type": "code",
   "execution_count": 4,
   "metadata": {},
   "outputs": [
    {
     "data": {
      "text/html": [
       "<div>\n",
       "<style scoped>\n",
       "    .dataframe tbody tr th:only-of-type {\n",
       "        vertical-align: middle;\n",
       "    }\n",
       "\n",
       "    .dataframe tbody tr th {\n",
       "        vertical-align: top;\n",
       "    }\n",
       "\n",
       "    .dataframe thead th {\n",
       "        text-align: right;\n",
       "    }\n",
       "</style>\n",
       "<table border=\"1\" class=\"dataframe\">\n",
       "  <thead>\n",
       "    <tr style=\"text-align: right;\">\n",
       "      <th></th>\n",
       "      <th>BBUpper</th>\n",
       "      <th>BBMiddle</th>\n",
       "      <th>BBLower</th>\n",
       "      <th>Close</th>\n",
       "      <th>BBOver</th>\n",
       "      <th>BBUnder</th>\n",
       "    </tr>\n",
       "  </thead>\n",
       "  <tbody>\n",
       "    <tr>\n",
       "      <th>0</th>\n",
       "      <td>NaN</td>\n",
       "      <td>NaN</td>\n",
       "      <td>NaN</td>\n",
       "      <td>4.6460000000e+04</td>\n",
       "      <td>False</td>\n",
       "      <td>False</td>\n",
       "    </tr>\n",
       "    <tr>\n",
       "      <th>1</th>\n",
       "      <td>NaN</td>\n",
       "      <td>NaN</td>\n",
       "      <td>NaN</td>\n",
       "      <td>4.6458746269e+04</td>\n",
       "      <td>False</td>\n",
       "      <td>False</td>\n",
       "    </tr>\n",
       "    <tr>\n",
       "      <th>2</th>\n",
       "      <td>NaN</td>\n",
       "      <td>NaN</td>\n",
       "      <td>NaN</td>\n",
       "      <td>4.6448000000e+04</td>\n",
       "      <td>False</td>\n",
       "      <td>False</td>\n",
       "    </tr>\n",
       "    <tr>\n",
       "      <th>3</th>\n",
       "      <td>NaN</td>\n",
       "      <td>NaN</td>\n",
       "      <td>NaN</td>\n",
       "      <td>4.6437253731e+04</td>\n",
       "      <td>False</td>\n",
       "      <td>False</td>\n",
       "    </tr>\n",
       "    <tr>\n",
       "      <th>4</th>\n",
       "      <td>NaN</td>\n",
       "      <td>NaN</td>\n",
       "      <td>NaN</td>\n",
       "      <td>4.6426507463e+04</td>\n",
       "      <td>False</td>\n",
       "      <td>False</td>\n",
       "    </tr>\n",
       "    <tr>\n",
       "      <th>...</th>\n",
       "      <td>...</td>\n",
       "      <td>...</td>\n",
       "      <td>...</td>\n",
       "      <td>...</td>\n",
       "      <td>...</td>\n",
       "      <td>...</td>\n",
       "    </tr>\n",
       "    <tr>\n",
       "      <th>43188</th>\n",
       "      <td>1.4420014584e+06</td>\n",
       "      <td>1.4259984444e+06</td>\n",
       "      <td>1.4099954304e+06</td>\n",
       "      <td>1.4114530000e+06</td>\n",
       "      <td>False</td>\n",
       "      <td>False</td>\n",
       "    </tr>\n",
       "    <tr>\n",
       "      <th>43189</th>\n",
       "      <td>1.4422544998e+06</td>\n",
       "      <td>1.4244944444e+06</td>\n",
       "      <td>1.4067343891e+06</td>\n",
       "      <td>1.4135480000e+06</td>\n",
       "      <td>False</td>\n",
       "      <td>False</td>\n",
       "    </tr>\n",
       "    <tr>\n",
       "      <th>43190</th>\n",
       "      <td>1.4377439830e+06</td>\n",
       "      <td>1.4211806667e+06</td>\n",
       "      <td>1.4046173503e+06</td>\n",
       "      <td>1.4094750000e+06</td>\n",
       "      <td>False</td>\n",
       "      <td>False</td>\n",
       "    </tr>\n",
       "    <tr>\n",
       "      <th>43191</th>\n",
       "      <td>1.4340634788e+06</td>\n",
       "      <td>1.4191417778e+06</td>\n",
       "      <td>1.4042200767e+06</td>\n",
       "      <td>1.4141550000e+06</td>\n",
       "      <td>False</td>\n",
       "      <td>False</td>\n",
       "    </tr>\n",
       "    <tr>\n",
       "      <th>43192</th>\n",
       "      <td>1.4313356392e+06</td>\n",
       "      <td>1.4174533333e+06</td>\n",
       "      <td>1.4035710275e+06</td>\n",
       "      <td>1.4129160000e+06</td>\n",
       "      <td>False</td>\n",
       "      <td>False</td>\n",
       "    </tr>\n",
       "  </tbody>\n",
       "</table>\n",
       "<p>43193 rows × 6 columns</p>\n",
       "</div>"
      ],
      "text/plain": [
       "                BBUpper          BBMiddle           BBLower             Close  \\\n",
       "0                   NaN               NaN               NaN  4.6460000000e+04   \n",
       "1                   NaN               NaN               NaN  4.6458746269e+04   \n",
       "2                   NaN               NaN               NaN  4.6448000000e+04   \n",
       "3                   NaN               NaN               NaN  4.6437253731e+04   \n",
       "4                   NaN               NaN               NaN  4.6426507463e+04   \n",
       "...                 ...               ...               ...               ...   \n",
       "43188  1.4420014584e+06  1.4259984444e+06  1.4099954304e+06  1.4114530000e+06   \n",
       "43189  1.4422544998e+06  1.4244944444e+06  1.4067343891e+06  1.4135480000e+06   \n",
       "43190  1.4377439830e+06  1.4211806667e+06  1.4046173503e+06  1.4094750000e+06   \n",
       "43191  1.4340634788e+06  1.4191417778e+06  1.4042200767e+06  1.4141550000e+06   \n",
       "43192  1.4313356392e+06  1.4174533333e+06  1.4035710275e+06  1.4129160000e+06   \n",
       "\n",
       "       BBOver  BBUnder  \n",
       "0       False    False  \n",
       "1       False    False  \n",
       "2       False    False  \n",
       "3       False    False  \n",
       "4       False    False  \n",
       "...       ...      ...  \n",
       "43188   False    False  \n",
       "43189   False    False  \n",
       "43190   False    False  \n",
       "43191   False    False  \n",
       "43192   False    False  \n",
       "\n",
       "[43193 rows x 6 columns]"
      ]
     },
     "execution_count": 4,
     "metadata": {},
     "output_type": "execute_result"
    }
   ],
   "source": [
    "hour"
   ]
  },
  {
   "cell_type": "code",
   "execution_count": 5,
   "metadata": {},
   "outputs": [
    {
     "data": {
      "text/plain": [
       "[<matplotlib.lines.Line2D at 0x1229d1e80>]"
      ]
     },
     "execution_count": 5,
     "metadata": {},
     "output_type": "execute_result"
    },
    {
     "data": {
      "image/png": "[encoded data removed]",
      "text/plain": [
       "<Figure size 432x288 with 1 Axes>"
      ]
     },
     "metadata": {
      "needs_background": "light"
     },
     "output_type": "display_data"
    }
   ],
   "source": [
    "hour = hour[-100:]\n",
    "plt.plot(hour['Close'])\n",
    "plt.plot(hour['BBUpper'])\n",
    "plt.plot(hour['BBMiddle'])\n",
    "plt.plot(hour['BBLower'])"
   ]
  },
  {
   "cell_type": "code",
   "execution_count": 6,
   "metadata": {},
   "outputs": [
    {
     "data": {
      "text/plain": [
       "0.04"
      ]
     },
     "execution_count": 6,
     "metadata": {},
     "output_type": "execute_result"
    }
   ],
   "source": [
    "hour['BBOver'].mean()"
   ]
  },
  {
   "cell_type": "code",
   "execution_count": 190,
   "metadata": {},
   "outputs": [],
   "source": [
    "class Bot(object):\n",
    "    def __init__(self,balance=0.0,name=''):\n",
    "        key = os.environ['API_KEY']\n",
    "        secret = os.environ['API_SECRET']\n",
    "        self.pbf = pybitflyer.API(api_key=key,api_secret=secret)\n",
    "        self.side = 'no-position'\n",
    "        self.positions = pd.DataFrame(columns=['price','size'])\n",
    "        self.balance = balance\n",
    "        self.income = 0\n",
    "        self.child_orders = pd.DataFrame(columns=['child_order_id','expire_date','size','executed'])\n",
    "        self.parent_orders = pd.DataFrame(columns=['parent_order_id'])\n",
    "        self.child_acceptance_ids = []\n",
    "        self.parent_acceptance_ids = []\n",
    "\n",
    "        self.mid_price = 0\n",
    "        self.bids = pd.DataFrame(columns = ['price','size'])\n",
    "        self.asks = pd.DataFrame(columns = ['price','size'])\n",
    "\n",
    "        #汎用 取引量抑えたりに使える\n",
    "        self.cnt = 0\n",
    "\n",
    "        self.name = name\n",
    "\n",
    "    def market_buy(self,size,minutes_to_expire=43200,time_in_force=\"GTC\"):\n",
    "        result = self.pbf.sendchildorder(\n",
    "          product_code='FX_BTC_JPY',\n",
    "          child_order_type='MARKET',\n",
    "          side='BUY',\n",
    "          size=round(size,3),\n",
    "          minutes_to_expire=minutes_to_expire,\n",
    "          time_in_force=time_in_force\n",
    "        )\n",
    "        print(result)\n",
    "        if type(result) == dict and 'child_order_acceptance_id' in result.keys():\n",
    "            self.child_acceptance_ids.append(result['child_order_acceptance_id'])\n",
    "        else:\n",
    "            print(\"market_buy failed\")\n",
    "            print(result)\n",
    "\n",
    "    def market_sell(self,size,minutes_to_expire=43200,time_in_force=\"GTC\"):\n",
    "        result = self.pbf.sendchildorder(\n",
    "          product_code='FX_BTC_JPY',\n",
    "          child_order_type='MARKET',\n",
    "          side='SELL',\n",
    "          size=round(size,3),\n",
    "          minutes_to_expire=minutes_to_expire,\n",
    "          time_in_force=time_in_force\n",
    "        )\n",
    "        print(result)\n",
    "        if type(result) == dict and 'child_order_acceptance_id' in result.keys():\n",
    "            self.child_acceptance_ids.append(result['child_order_acceptance_id'])\n",
    "        else:\n",
    "            print(\"market_sell failed\")\n",
    "            print(result)\n",
    "            \n",
    "    def limit_buy(self,price,size,minutes_to_expire=43200,time_in_force=\"GTC\"):\n",
    "        result = self.pbf.sendchildorder(\n",
    "          product_code='FX_BTC_JPY',\n",
    "          child_order_type='LIMIT',\n",
    "          side='BUY',\n",
    "          price=int(price),\n",
    "          size=round(size,3),\n",
    "          minutes_to_expire=minutes_to_expire,\n",
    "          time_in_force=time_in_force\n",
    "        )\n",
    "        return result\n",
    "        if type(result) == dict and 'child_order_acceptance_id' in result.keys():\n",
    "            self.child_acceptance_ids.append(result['child_order_acceptance_id'])\n",
    "        else:\n",
    "            print(\"limit_buy failed\")\n",
    "            print(result)\n",
    "\n",
    "    def limit_sell(self,price,size,minutes_to_expire=43200,time_in_force=\"GTC\"):\n",
    "        result = self.pbf.sendchildorder(\n",
    "          product_code='FX_BTC_JPY',\n",
    "          child_order_type='LIMIT',\n",
    "          side='SELL',\n",
    "          price=int(price),\n",
    "          size=round(size,3),\n",
    "          minutes_to_expire=minutes_to_expire,\n",
    "          time_in_force=time_in_force\n",
    "        )\n",
    "        return result\n",
    "        if type(result) == dict and 'child_order_acceptance_id' in result.keys():\n",
    "            self.child_acceptance_ids.append(result['child_order_acceptance_id'])\n",
    "        else:\n",
    "            print(\"limit_sell failed\")\n",
    "            print(result)\n",
    "\n",
    "bot = Bot()"
   ]
  },
  {
   "cell_type": "code",
   "execution_count": 27,
   "metadata": {},
   "outputs": [
    {
     "name": "stdout",
     "output_type": "stream",
     "text": [
      "{'child_order_acceptance_id': 'JRF20201031-143458-017111'}\n",
      "{'child_order_acceptance_id': 'JRF20201031-143458-293558'}\n"
     ]
    }
   ],
   "source": [
    "bot.market_buy(size=0.01)\n",
    "bot.market_sell(size=0.01)"
   ]
  },
  {
   "cell_type": "code",
   "execution_count": null,
   "metadata": {},
   "outputs": [],
   "source": [
    "executions = pd.read_csv('skynet/bf/data/raw/executions.csv')\n",
    "executions['exec_date'] = executions['exec_date'].apply(lambda x: dateutil.parser.parse(x).timestamp())\n",
    "executions['exec_date_ceil'] = executions['exec_date'].apply(np.ceil).astype(int)\n",
    "grouped = executions.groupby('exec_date_ceil')\n",
    "seconds = pd.DataFrame()\n",
    "seconds['timestamp'] = grouped['exec_date_ceil'].first()\n",
    "seconds['Open'] = grouped['price'].first()\n",
    "seconds['High'] = grouped['price'].max()\n",
    "seconds['Low'] = grouped['price'].min()\n",
    "seconds['Close'] = grouped['price'].last()\n",
    "seconds = seconds.reset_index(drop=True)\n",
    "\n",
    "seconds['Target_ConvergenceRate'] = 0\n",
    "#どっちに先に到達しているかを確認するためのcode\n",
    "for i in range(seconds.shape[0]-1):\n",
    "    rate = 0\n",
    "    base = seconds['Close'].values[i]\n",
    "    upper = False\n",
    "    lower = False\n",
    "    flag = False\n",
    "    cnt = 1\n",
    "    while i+cnt <= seconds.shape[0]-1:\n",
    "        if base*(1+rate) <= seconds['High'].values[i+cnt]:\n",
    "            upper = True\n",
    "            if base*(1+2*rate) <= seconds['High'].values[i+cnt]:\n",
    "                break\n",
    "                \n",
    "        if seconds['Low'].values[i+cnt] <= base*(1-rate):\n",
    "            lower = True\n",
    "            if seconds['Low'].values[i+cnt] <= base*(1-2*rate):\n",
    "                break\n",
    "                \n",
    "        if upper and lower:\n",
    "            flag = True\n",
    "            break\n",
    "            \n",
    "        cnt += 1\n",
    "        \n",
    "    seconds['Pure_Convergence'].values[i] = flag\n",
    "    \n",
    "seconds.to_csv('skynet/bf/data/processed/seconds.csv',index=False)"
   ]
  },
  {
   "cell_type": "code",
   "execution_count": 82,
   "metadata": {
    "collapsed": true
   },
   "outputs": [
    {
     "ename": "KeyboardInterrupt",
     "evalue": "",
     "output_type": "error",
     "traceback": [
      "\u001b[0;31m---------------------------------------------------------------------------\u001b[0m",
      "\u001b[0;31mKeyboardInterrupt\u001b[0m                         Traceback (most recent call last)",
      "\u001b[0;32m<ipython-input-82-110d2099da7a>\u001b[0m in \u001b[0;36m<module>\u001b[0;34m\u001b[0m\n\u001b[1;32m      1\u001b[0m \u001b[0mts\u001b[0m \u001b[0;34m=\u001b[0m \u001b[0mpd\u001b[0m\u001b[0;34m.\u001b[0m\u001b[0mDataFrame\u001b[0m\u001b[0;34m(\u001b[0m\u001b[0;34m)\u001b[0m\u001b[0;34m\u001b[0m\u001b[0;34m\u001b[0m\u001b[0m\n\u001b[1;32m      2\u001b[0m \u001b[0;32mfor\u001b[0m \u001b[0ms\u001b[0m \u001b[0;32min\u001b[0m \u001b[0mrange\u001b[0m\u001b[0;34m(\u001b[0m\u001b[0mseconds\u001b[0m\u001b[0;34m[\u001b[0m\u001b[0;34m'timestamp'\u001b[0m\u001b[0;34m]\u001b[0m\u001b[0;34m.\u001b[0m\u001b[0mvalues\u001b[0m\u001b[0;34m[\u001b[0m\u001b[0;36m0\u001b[0m\u001b[0;34m]\u001b[0m\u001b[0;34m,\u001b[0m\u001b[0mseconds\u001b[0m\u001b[0;34m[\u001b[0m\u001b[0;34m'timestamp'\u001b[0m\u001b[0;34m]\u001b[0m\u001b[0;34m.\u001b[0m\u001b[0mvalues\u001b[0m\u001b[0;34m[\u001b[0m\u001b[0;34m-\u001b[0m\u001b[0;36m1\u001b[0m\u001b[0;34m]\u001b[0m\u001b[0;34m-\u001b[0m\u001b[0;36m10\u001b[0m\u001b[0;34m)\u001b[0m\u001b[0;34m:\u001b[0m\u001b[0;34m\u001b[0m\u001b[0;34m\u001b[0m\u001b[0m\n\u001b[0;32m----> 3\u001b[0;31m     \u001b[0mtmp\u001b[0m \u001b[0;34m=\u001b[0m \u001b[0mseconds\u001b[0m\u001b[0;34m[\u001b[0m\u001b[0;34m(\u001b[0m\u001b[0ms\u001b[0m \u001b[0;34m<=\u001b[0m \u001b[0mseconds\u001b[0m\u001b[0;34m[\u001b[0m\u001b[0;34m'timestamp'\u001b[0m\u001b[0;34m]\u001b[0m\u001b[0;34m)\u001b[0m \u001b[0;34m&\u001b[0m \u001b[0;34m(\u001b[0m\u001b[0mseconds\u001b[0m\u001b[0;34m[\u001b[0m\u001b[0;34m'timestamp'\u001b[0m\u001b[0;34m]\u001b[0m \u001b[0;34m<\u001b[0m \u001b[0ms\u001b[0m \u001b[0;34m+\u001b[0m \u001b[0;36m10\u001b[0m\u001b[0;34m)\u001b[0m\u001b[0;34m]\u001b[0m\u001b[0;34m\u001b[0m\u001b[0;34m\u001b[0m\u001b[0m\n\u001b[0m\u001b[1;32m      4\u001b[0m     \u001b[0;32mif\u001b[0m \u001b[0mtmp\u001b[0m\u001b[0;34m.\u001b[0m\u001b[0mshape\u001b[0m\u001b[0;34m[\u001b[0m\u001b[0;36m0\u001b[0m\u001b[0;34m]\u001b[0m \u001b[0;34m>=\u001b[0m \u001b[0;36m10\u001b[0m\u001b[0;34m:\u001b[0m\u001b[0;34m\u001b[0m\u001b[0;34m\u001b[0m\u001b[0m\n\u001b[1;32m      5\u001b[0m         ts_mini = pd.Series(\n",
      "\u001b[0;32m~/.pyenv/versions/3.8.0/lib/python3.8/site-packages/pandas/core/ops/common.py\u001b[0m in \u001b[0;36mnew_method\u001b[0;34m(self, other)\u001b[0m\n\u001b[1;32m     62\u001b[0m         \u001b[0mother\u001b[0m \u001b[0;34m=\u001b[0m \u001b[0mitem_from_zerodim\u001b[0m\u001b[0;34m(\u001b[0m\u001b[0mother\u001b[0m\u001b[0;34m)\u001b[0m\u001b[0;34m\u001b[0m\u001b[0;34m\u001b[0m\u001b[0m\n\u001b[1;32m     63\u001b[0m \u001b[0;34m\u001b[0m\u001b[0m\n\u001b[0;32m---> 64\u001b[0;31m         \u001b[0;32mreturn\u001b[0m \u001b[0mmethod\u001b[0m\u001b[0;34m(\u001b[0m\u001b[0mself\u001b[0m\u001b[0;34m,\u001b[0m \u001b[0mother\u001b[0m\u001b[0;34m)\u001b[0m\u001b[0;34m\u001b[0m\u001b[0;34m\u001b[0m\u001b[0m\n\u001b[0m\u001b[1;32m     65\u001b[0m \u001b[0;34m\u001b[0m\u001b[0m\n\u001b[1;32m     66\u001b[0m     \u001b[0;32mreturn\u001b[0m \u001b[0mnew_method\u001b[0m\u001b[0;34m\u001b[0m\u001b[0;34m\u001b[0m\u001b[0m\n",
      "\u001b[0;32m~/.pyenv/versions/3.8.0/lib/python3.8/site-packages/pandas/core/ops/__init__.py\u001b[0m in \u001b[0;36mwrapper\u001b[0;34m(self, other)\u001b[0m\n\u001b[1;32m    527\u001b[0m         \u001b[0mrvalues\u001b[0m \u001b[0;34m=\u001b[0m \u001b[0mextract_array\u001b[0m\u001b[0;34m(\u001b[0m\u001b[0mother\u001b[0m\u001b[0;34m,\u001b[0m \u001b[0mextract_numpy\u001b[0m\u001b[0;34m=\u001b[0m\u001b[0;32mTrue\u001b[0m\u001b[0;34m)\u001b[0m\u001b[0;34m\u001b[0m\u001b[0;34m\u001b[0m\u001b[0m\n\u001b[1;32m    528\u001b[0m \u001b[0;34m\u001b[0m\u001b[0m\n\u001b[0;32m--> 529\u001b[0;31m         \u001b[0mres_values\u001b[0m \u001b[0;34m=\u001b[0m \u001b[0mcomparison_op\u001b[0m\u001b[0;34m(\u001b[0m\u001b[0mlvalues\u001b[0m\u001b[0;34m,\u001b[0m \u001b[0mrvalues\u001b[0m\u001b[0;34m,\u001b[0m \u001b[0mop\u001b[0m\u001b[0;34m)\u001b[0m\u001b[0;34m\u001b[0m\u001b[0;34m\u001b[0m\u001b[0m\n\u001b[0m\u001b[1;32m    530\u001b[0m \u001b[0;34m\u001b[0m\u001b[0m\n\u001b[1;32m    531\u001b[0m         \u001b[0;32mreturn\u001b[0m \u001b[0m_construct_result\u001b[0m\u001b[0;34m(\u001b[0m\u001b[0mself\u001b[0m\u001b[0;34m,\u001b[0m \u001b[0mres_values\u001b[0m\u001b[0;34m,\u001b[0m \u001b[0mindex\u001b[0m\u001b[0;34m=\u001b[0m\u001b[0mself\u001b[0m\u001b[0;34m.\u001b[0m\u001b[0mindex\u001b[0m\u001b[0;34m,\u001b[0m \u001b[0mname\u001b[0m\u001b[0;34m=\u001b[0m\u001b[0mres_name\u001b[0m\u001b[0;34m)\u001b[0m\u001b[0;34m\u001b[0m\u001b[0;34m\u001b[0m\u001b[0m\n",
      "\u001b[0;32m~/.pyenv/versions/3.8.0/lib/python3.8/site-packages/pandas/core/ops/array_ops.py\u001b[0m in \u001b[0;36mcomparison_op\u001b[0;34m(left, right, op)\u001b[0m\n\u001b[1;32m    251\u001b[0m         \u001b[0mmethod\u001b[0m \u001b[0;34m=\u001b[0m \u001b[0mgetattr\u001b[0m\u001b[0;34m(\u001b[0m\u001b[0mlvalues\u001b[0m\u001b[0;34m,\u001b[0m \u001b[0mop_name\u001b[0m\u001b[0;34m)\u001b[0m\u001b[0;34m\u001b[0m\u001b[0;34m\u001b[0m\u001b[0m\n\u001b[1;32m    252\u001b[0m         \u001b[0;32mwith\u001b[0m \u001b[0mnp\u001b[0m\u001b[0;34m.\u001b[0m\u001b[0merrstate\u001b[0m\u001b[0;34m(\u001b[0m\u001b[0mall\u001b[0m\u001b[0;34m=\u001b[0m\u001b[0;34m\"ignore\"\u001b[0m\u001b[0;34m)\u001b[0m\u001b[0;34m:\u001b[0m\u001b[0;34m\u001b[0m\u001b[0;34m\u001b[0m\u001b[0m\n\u001b[0;32m--> 253\u001b[0;31m             \u001b[0mres_values\u001b[0m \u001b[0;34m=\u001b[0m \u001b[0mmethod\u001b[0m\u001b[0;34m(\u001b[0m\u001b[0mrvalues\u001b[0m\u001b[0;34m)\u001b[0m\u001b[0;34m\u001b[0m\u001b[0;34m\u001b[0m\u001b[0m\n\u001b[0m\u001b[1;32m    254\u001b[0m \u001b[0;34m\u001b[0m\u001b[0m\n\u001b[1;32m    255\u001b[0m         \u001b[0;32mif\u001b[0m \u001b[0mres_values\u001b[0m \u001b[0;32mis\u001b[0m \u001b[0mNotImplemented\u001b[0m\u001b[0;34m:\u001b[0m\u001b[0;34m\u001b[0m\u001b[0;34m\u001b[0m\u001b[0m\n",
      "\u001b[0;31mKeyboardInterrupt\u001b[0m: "
     ]
    }
   ],
   "source": [
    "ts = pd.DataFrame()\n",
    "for s in range(seconds['timestamp'].values[0],seconds['timestamp'].values[-1]-10):\n",
    "    tmp = seconds[(s <= seconds['timestamp']) & (seconds['timestamp'] < s + 10)]\n",
    "    if tmp.shape[0] >= 10:\n",
    "        ts_mini = pd.Series(\n",
    "            [\n",
    "                tmp['timestamp'].values[-1],\n",
    "                tmp['Open'].values[0],\n",
    "                tmp['High'].max(),\n",
    "                tmp['Low'].min(),\n",
    "                tmp['Close'].values[-1]\n",
    "            ],\n",
    "            index=[\n",
    "                'timestamp',\n",
    "                'Open',\n",
    "                'High',\n",
    "                'Low',\n",
    "                'Close'\n",
    "            ]\n",
    "        )\n",
    "        ts = ts.append(ts_mini,ignore_index=True)"
   ]
  },
  {
   "cell_type": "code",
   "execution_count": 190,
   "metadata": {},
   "outputs": [],
   "source": [
    "seconds = pd.read_csv('skynet/bf/data/processed/seconds.csv')"
   ]
  },
  {
   "cell_type": "code",
   "execution_count": 192,
   "metadata": {},
   "outputs": [],
   "source": [
    "seconds['Pure_Convergence'] = False"
   ]
  },
  {
   "cell_type": "code",
   "execution_count": 187,
   "metadata": {},
   "outputs": [],
   "source": [
    "#どっちに先に到達しているかを確認するためのcode\n",
    "rate = 0.00025\n",
    "for i in range(seconds.shape[0]-1):\n",
    "    base = seconds['Close'].values[i]\n",
    "    upper = False\n",
    "    lower = False\n",
    "    flag = False\n",
    "    cnt = 1\n",
    "    while i+cnt <= seconds.shape[0]-1:\n",
    "        if base*(1+rate) <= seconds['High'].values[i+cnt]:\n",
    "            upper = True\n",
    "            if base*(1+2*rate) <= seconds['High'].values[i+cnt]:\n",
    "                break\n",
    "                \n",
    "        if seconds['Low'].values[i+cnt] <= base*(1-rate):\n",
    "            lower = True\n",
    "            if seconds['Low'].values[i+cnt] <= base*(1-2*rate):\n",
    "                break\n",
    "                \n",
    "        if upper and lower:\n",
    "            flag = True\n",
    "            break\n",
    "            \n",
    "        cnt += 1\n",
    "        \n",
    "    seconds['Pure_Convergence'].values[i] = flag"
   ]
  },
  {
   "cell_type": "code",
   "execution_count": 154,
   "metadata": {},
   "outputs": [],
   "source": [
    "seconds.to_csv('skynet/bf/data/processed/seconds.csv',index=False)"
   ]
  },
  {
   "cell_type": "code",
   "execution_count": 207,
   "metadata": {},
   "outputs": [
    {
     "ename": "KeyboardInterrupt",
     "evalue": "",
     "output_type": "error",
     "traceback": [
      "\u001b[0;31m---------------------------------------------------------------------------\u001b[0m",
      "\u001b[0;31mKeyboardInterrupt\u001b[0m                         Traceback (most recent call last)",
      "\u001b[0;32m<ipython-input-207-99ee0f8fee68>\u001b[0m in \u001b[0;36m<module>\u001b[0;34m\u001b[0m\n\u001b[1;32m     12\u001b[0m         \u001b[0mcnt2\u001b[0m \u001b[0;34m=\u001b[0m \u001b[0;36m0\u001b[0m\u001b[0;34m\u001b[0m\u001b[0;34m\u001b[0m\u001b[0m\n\u001b[1;32m     13\u001b[0m         \u001b[0;32mwhile\u001b[0m \u001b[0mi\u001b[0m\u001b[0;34m+\u001b[0m\u001b[0mcnt\u001b[0m \u001b[0;34m<=\u001b[0m \u001b[0mseconds\u001b[0m\u001b[0;34m.\u001b[0m\u001b[0mshape\u001b[0m\u001b[0;34m[\u001b[0m\u001b[0;36m0\u001b[0m\u001b[0;34m]\u001b[0m\u001b[0;34m-\u001b[0m\u001b[0;36m1\u001b[0m\u001b[0;34m:\u001b[0m\u001b[0;34m\u001b[0m\u001b[0;34m\u001b[0m\u001b[0m\n\u001b[0;32m---> 14\u001b[0;31m             \u001b[0;32mif\u001b[0m \u001b[0mbase\u001b[0m\u001b[0;34m*\u001b[0m\u001b[0;34m(\u001b[0m\u001b[0;36m1\u001b[0m\u001b[0;34m+\u001b[0m\u001b[0mrate\u001b[0m\u001b[0;34m)\u001b[0m \u001b[0;34m<=\u001b[0m \u001b[0mseconds\u001b[0m\u001b[0;34m[\u001b[0m\u001b[0;34m'High'\u001b[0m\u001b[0;34m]\u001b[0m\u001b[0;34m.\u001b[0m\u001b[0mvalues\u001b[0m\u001b[0;34m[\u001b[0m\u001b[0mi\u001b[0m\u001b[0;34m+\u001b[0m\u001b[0mcnt\u001b[0m\u001b[0;34m]\u001b[0m\u001b[0;34m:\u001b[0m\u001b[0;34m\u001b[0m\u001b[0;34m\u001b[0m\u001b[0m\n\u001b[0m\u001b[1;32m     15\u001b[0m                 \u001b[0mupper\u001b[0m \u001b[0;34m=\u001b[0m \u001b[0;32mTrue\u001b[0m\u001b[0;34m\u001b[0m\u001b[0;34m\u001b[0m\u001b[0m\n\u001b[1;32m     16\u001b[0m                 \u001b[0;32mif\u001b[0m \u001b[0mbase\u001b[0m\u001b[0;34m*\u001b[0m\u001b[0;34m(\u001b[0m\u001b[0;36m1\u001b[0m\u001b[0;34m+\u001b[0m\u001b[0;36m2\u001b[0m\u001b[0;34m*\u001b[0m\u001b[0mrate\u001b[0m\u001b[0;34m)\u001b[0m \u001b[0;34m<=\u001b[0m \u001b[0mseconds\u001b[0m\u001b[0;34m[\u001b[0m\u001b[0;34m'High'\u001b[0m\u001b[0;34m]\u001b[0m\u001b[0;34m.\u001b[0m\u001b[0mvalues\u001b[0m\u001b[0;34m[\u001b[0m\u001b[0mi\u001b[0m\u001b[0;34m+\u001b[0m\u001b[0mcnt\u001b[0m\u001b[0;34m]\u001b[0m\u001b[0;34m:\u001b[0m\u001b[0;34m\u001b[0m\u001b[0;34m\u001b[0m\u001b[0m\n",
      "\u001b[0;31mKeyboardInterrupt\u001b[0m: "
     ]
    }
   ],
   "source": [
    "rate = 0.001\n",
    "result = []\n",
    "cnt2_li = []\n",
    "for _ in range(20):\n",
    "    rate += 0.00001\n",
    "    for i in range(3000):\n",
    "        base = seconds['Close'].values[i]\n",
    "        upper = False\n",
    "        lower = False\n",
    "        flag = False\n",
    "        cnt = 1\n",
    "        cnt2 = 0\n",
    "        while i+cnt <= seconds.shape[0]-1:\n",
    "            if base*(1+rate) <= seconds['High'].values[i+cnt]:\n",
    "                upper = True\n",
    "                if base*(1+2*rate) <= seconds['High'].values[i+cnt]:\n",
    "                    cnt2_li.append(cnt2)\n",
    "                    break\n",
    "\n",
    "            if seconds['Low'].values[i+cnt] <= base*(1-rate):\n",
    "                lower = True\n",
    "                if seconds['Low'].values[i+cnt] <= base*(1-2*rate):\n",
    "                    cnt2_li.append(cnt2)\n",
    "                    break\n",
    "\n",
    "            if upper and lower:\n",
    "                flag = True\n",
    "                cnt2_li.append(cnt2)\n",
    "                break\n",
    "\n",
    "            cnt += 1\n",
    "            cnt2 += 1\n",
    "\n",
    "        seconds['Pure_Convergence'].values[i] = flag\n",
    "    \n",
    "    result.append(seconds['Pure_Convergence'][:3000].mean())"
   ]
  },
  {
   "cell_type": "code",
   "execution_count": 208,
   "metadata": {},
   "outputs": [
    {
     "data": {
      "text/plain": [
       "[<matplotlib.lines.Line2D at 0x122b06880>]"
      ]
     },
     "execution_count": 208,
     "metadata": {},
     "output_type": "execute_result"
    },
    {
     "data": {
      "image/png": "[encoded data removed]",
      "text/plain": [
       "<Figure size 432x288 with 1 Axes>"
      ]
     },
     "metadata": {
      "needs_background": "light"
     },
     "output_type": "display_data"
    }
   ],
   "source": [
    "plt.plot(result)"
   ]
  },
  {
   "cell_type": "code",
   "execution_count": 209,
   "metadata": {},
   "outputs": [
    {
     "data": {
      "text/plain": [
       "[<matplotlib.lines.Line2D at 0x12945cee0>]"
      ]
     },
     "execution_count": 209,
     "metadata": {},
     "output_type": "execute_result"
    },
    {
     "data": {
      "image/png": "[encoded data removed]",
      "text/plain": [
       "<Figure size 432x288 with 1 Axes>"
      ]
     },
     "metadata": {
      "needs_background": "light"
     },
     "output_type": "display_data"
    }
   ],
   "source": [
    "plt.plot(cnt2_li)"
   ]
  },
  {
   "cell_type": "code",
   "execution_count": 165,
   "metadata": {},
   "outputs": [
    {
     "data": {
      "text/plain": [
       "[0.296,\n",
       " 0.348,\n",
       " 0.293,\n",
       " 0.237,\n",
       " 0.151,\n",
       " 0.1,\n",
       " 0.113,\n",
       " 0.187,\n",
       " 0.285,\n",
       " 0.332,\n",
       " 0.464,\n",
       " 0.658,\n",
       " 0.874,\n",
       " 0.911,\n",
       " 0.891,\n",
       " 0.827,\n",
       " 0.784,\n",
       " 0.715,\n",
       " 0.69,\n",
       " 0.669,\n",
       " 0.668,\n",
       " 0.717,\n",
       " 0.828,\n",
       " 0.945,\n",
       " 1.0,\n",
       " 1.0,\n",
       " 1.0,\n",
       " 1.0,\n",
       " 1.0,\n",
       " 1.0]"
      ]
     },
     "execution_count": 165,
     "metadata": {},
     "output_type": "execute_result"
    }
   ],
   "source": [
    "result"
   ]
  },
  {
   "cell_type": "code",
   "execution_count": 164,
   "metadata": {},
   "outputs": [
    {
     "data": {
      "text/plain": [
       "[1.0, 1.0, 1.0, 1.0, 1.0]"
      ]
     },
     "execution_count": 164,
     "metadata": {},
     "output_type": "execute_result"
    }
   ],
   "source": [
    "result[-5:]"
   ]
  },
  {
   "cell_type": "code",
   "execution_count": 139,
   "metadata": {},
   "outputs": [
    {
     "data": {
      "text/plain": [
       "[0.29, 0.291, 0.294, 0.292, 0.291, 0.291, 0.291, 0.298, 0.29, 0.296]"
      ]
     },
     "execution_count": 139,
     "metadata": {},
     "output_type": "execute_result"
    }
   ],
   "source": [
    "result[15:25]"
   ]
  },
  {
   "cell_type": "code",
   "execution_count": 243,
   "metadata": {},
   "outputs": [],
   "source": [
    "smoku = utils.shaping_ohlc(seconds,['Close']+['1moku-precedent-span1','1moku-precedent-span2','1moku-signal4','1moku-signal6','1moku-signal3','1moku-signal5'])"
   ]
  },
  {
   "cell_type": "code",
   "execution_count": 237,
   "metadata": {},
   "outputs": [
    {
     "data": {
      "text/plain": [
       "[<matplotlib.lines.Line2D at 0x123b222e0>]"
      ]
     },
     "execution_count": 237,
     "metadata": {},
     "output_type": "execute_result"
    },
    {
     "data": {
      "image/png": "[encoded data removed]",
      "text/plain": [
       "<Figure size 432x288 with 1 Axes>"
      ]
     },
     "metadata": {
      "needs_background": "light"
     },
     "output_type": "display_data"
    }
   ],
   "source": [
    "smoku = smoku[-1000:]\n",
    "plt.plot(smoku['Close'])\n",
    "plt.plot(smoku['1moku-precedent-span1'])\n",
    "plt.plot(smoku['1moku-precedent-span2'])"
   ]
  },
  {
   "cell_type": "code",
   "execution_count": 249,
   "metadata": {},
   "outputs": [],
   "source": [
    "state = 0\n",
    "income = [0]\n",
    "cnt = 0\n",
    "for i in range(smoku.shape[0]):\n",
    "    if smoku['1moku-signal3'].values[i] == 1 or smoku['1moku-signal5'].values[i] == -1:\n",
    "        if state != 1:\n",
    "            if state == -1:\n",
    "                cnt += 1\n",
    "                income.append(income[-1]-0.01*(value-smoku['Close'].values[i]))\n",
    "            value = smoku['Close'].values[i]\n",
    "            state = 1\n",
    "        else:\n",
    "            income.append(income[-1])\n",
    "    elif smoku['1moku-signal5'].values[i] == 1 or smoku['1moku-signal3'].values[i] == -1:\n",
    "        if state != -1:\n",
    "            if state == 1:\n",
    "                cnt += 1\n",
    "                income.append(income[-1]+0.01*(value-smoku['Close'].values[i]))\n",
    "            value = smoku['Close'].values[i]\n",
    "            state = -1\n",
    "        else:\n",
    "            income.append(income[-1])\n",
    "    else:\n",
    "        income.append(income[-1])"
   ]
  },
  {
   "cell_type": "code",
   "execution_count": 250,
   "metadata": {},
   "outputs": [
    {
     "data": {
      "text/plain": [
       "[<matplotlib.lines.Line2D at 0x123a9a970>]"
      ]
     },
     "execution_count": 250,
     "metadata": {},
     "output_type": "execute_result"
    },
    {
     "data": {
      "image/png": "[encoded data removed]",
      "text/plain": [
       "<Figure size 432x288 with 1 Axes>"
      ]
     },
     "metadata": {
      "needs_background": "light"
     },
     "output_type": "display_data"
    }
   ],
   "source": [
    "plt.plot(income)"
   ]
  },
  {
   "cell_type": "code",
   "execution_count": 252,
   "metadata": {},
   "outputs": [
    {
     "data": {
      "text/plain": [
       "(60529, 7)"
      ]
     },
     "execution_count": 252,
     "metadata": {},
     "output_type": "execute_result"
    }
   ],
   "source": [
    "smoku.shape"
   ]
  },
  {
   "cell_type": "code",
   "execution_count": 254,
   "metadata": {},
   "outputs": [
    {
     "data": {
      "text/plain": [
       " 0.0    56600\n",
       "-1.0     1964\n",
       " 1.0     1964\n",
       "Name: 1moku-signal5, dtype: int64"
      ]
     },
     "execution_count": 254,
     "metadata": {},
     "output_type": "execute_result"
    }
   ],
   "source": [
    "smoku['1moku-signal5'].value_counts()"
   ]
  },
  {
   "cell_type": "code",
   "execution_count": 246,
   "metadata": {},
   "outputs": [
    {
     "data": {
      "text/plain": [
       "array([nan,  0.,  0.,  0.,  0.,  0.,  0.,  0.,  0.,  0.,  0.,  0.,  0.,\n",
       "        0.,  0.,  0.,  0.,  0.,  0.,  0.,  0.,  0.,  0.,  0.,  0.,  0.,\n",
       "        0.,  0.,  0.,  0.,  0.,  0.,  0.,  0.,  0.,  0.,  0.,  0.,  0.,\n",
       "        0.,  0.,  0.,  0.,  0.,  0.,  0.,  0.,  0.,  0.,  0.,  0.,  0.,\n",
       "        0.,  0.,  0.,  0.,  0.,  0.,  0.,  0.,  0.,  0.,  0.,  0.,  0.,\n",
       "        0.,  0.,  0.,  0.,  0.,  0.,  0.,  0.,  0.,  0.,  0.,  0.,  0.,\n",
       "        0.,  0.,  0.,  0.,  0.,  0.,  0.,  0.,  0.,  0.,  0.,  0.,  0.,\n",
       "        0.,  0.,  0.,  0.,  0.,  0.,  0.,  0.,  0.,  0.,  0.,  0.,  0.,\n",
       "        0.,  0.,  0.,  0.,  0.,  0.,  0.,  0.,  0.,  0.,  0.,  0.,  0.,\n",
       "        0.,  0.,  0.,  0.,  0.,  0.,  0.,  0.,  0.,  0.,  0.,  0.,  0.,\n",
       "        0.,  0.,  0.,  0.,  0.,  0.,  0.,  0.,  0.,  0.,  0.,  1.,  0.,\n",
       "        0.,  0.,  0.,  0., -1.,  1.,  0.,  0.,  0.,  0.,  0.,  0.,  0.,\n",
       "        0.,  0.,  0.,  0.,  0.,  0.,  0.,  0.,  0.,  0.,  0.,  0.,  0.,\n",
       "        0.,  0.,  0.,  0.,  0.,  0.,  0.,  0.,  0.,  0.,  0.,  0.,  0.,\n",
       "        0.,  0.,  0.,  0.,  0.,  0.,  0.,  0.,  0.,  0.,  0.,  0.,  0.,\n",
       "        0.,  0.,  0.,  0.,  0.,  0.,  0.,  0.,  0.,  0.,  0.,  0.,  0.,\n",
       "        0.,  0.,  0.,  0.,  0.,  0.,  0.,  0.,  0.,  0.,  0.,  0.,  0.,\n",
       "        0.,  0.,  0.,  0.,  0.,  0.,  0.,  0.,  0., -1.,  0.,  0.,  0.,\n",
       "        0.,  1., -1.,  0.,  0.,  0.,  1.,  0., -1.,  0.,  0.,  0.,  0.,\n",
       "        0.,  0.,  0.,  0.,  0.,  0.,  0.,  0.,  0.,  0.,  0.,  0.,  0.,\n",
       "        0.,  0.,  0.,  0.,  0.,  0.,  0.,  0.,  0.,  0.,  0.,  0.,  0.,\n",
       "        0.,  0.,  0.,  0.,  0.,  0.,  0.,  0.,  0.,  0.,  0.,  0.,  0.,\n",
       "        0.,  0.,  0.,  0.,  0.,  0.,  0.,  0.,  0.,  0.,  0.,  0.,  0.,\n",
       "        0.])"
      ]
     },
     "execution_count": 246,
     "metadata": {},
     "output_type": "execute_result"
    }
   ],
   "source": [
    "smoku['1moku-signal5'].values[:300]"
   ]
  }
 ],
 "metadata": {
  "kernelspec": {
   "display_name": "Python 3",
   "language": "python",
   "name": "python3"
  },
  "language_info": {
   "codemirror_mode": {
    "name": "ipython",
    "version": 3
   },
   "file_extension": ".py",
   "mimetype": "text/x-python",
   "name": "python",
   "nbconvert_exporter": "python",
   "pygments_lexer": "ipython3",
   "version": "3.8.0"
  }
 },
 "nbformat": 4,
 "nbformat_minor": 4
}
