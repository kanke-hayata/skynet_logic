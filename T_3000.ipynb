{
 "cells": [
  {
   "cell_type": "code",
   "execution_count": 1,
   "metadata": {},
   "outputs": [],
   "source": [
    "import pandas as pd\n",
    "import matplotlib.pyplot as plt\n",
    "import pickle\n",
    "import xgboost\n",
    "import sys\n",
    "sys.path.append(\"./skynet/bf/src/scripts/\")\n",
    "import xgboost_ohlc\n",
    "import utils\n",
    "import numpy as np\n",
    "import seaborn as sns\n",
    "import talib\n",
    "import datetime\n",
    "import dateutil\n",
    "import requests\n",
    "import time\n",
    "%matplotlib inline\n",
    "\n",
    "pd.set_option('display.max_columns', 300)\n",
    "pd.set_option('display.max_rows', 500)\n",
    "pd.options.display.precision = 10"
   ]
  },
  {
   "cell_type": "code",
   "execution_count": 2,
   "metadata": {},
   "outputs": [],
   "source": [
    "version = '3000'\n",
    "rate = 0.00025\n",
    "data_size=200000\n",
    "data_columns = ['MACDS/O','RSI','ATR/O','C/O','O-1/C','H/O','L/O','SignLine','3SignLine']\n",
    "target_column = 'Target_Pure_Convergence'\n",
    "backtest_columns = ['Open','High','Low','Close']"
   ]
  },
  {
   "cell_type": "code",
   "execution_count": 3,
   "metadata": {},
   "outputs": [],
   "source": [
    "seconds = pd.read_csv('skynet/bf/data/processed/seconds.csv')"
   ]
  },
  {
   "cell_type": "code",
   "execution_count": 4,
   "metadata": {},
   "outputs": [],
   "source": [
    "seconds['Target_Pure_Convergence'] = seconds['Pure_Convergence']"
   ]
  },
  {
   "cell_type": "code",
   "execution_count": 5,
   "metadata": {},
   "outputs": [],
   "source": [
    "seconds = utils.shaping_ohlc(seconds,['Open','Close']+data_columns+[target_column])"
   ]
  },
  {
   "cell_type": "code",
   "execution_count": 6,
   "metadata": {},
   "outputs": [
    {
     "name": "stdout",
     "output_type": "stream",
     "text": [
      "Fitting 5 folds for each of 1 candidates, totalling 5 fits\n"
     ]
    },
    {
     "name": "stderr",
     "output_type": "stream",
     "text": [
      "[Parallel(n_jobs=1)]: Using backend SequentialBackend with 1 concurrent workers.\n",
      "[Parallel(n_jobs=1)]: Done   5 out of   5 | elapsed:   14.7s finished\n"
     ]
    },
    {
     "name": "stdout",
     "output_type": "stream",
     "text": [
      "0.67\n",
      "Fitting 5 folds for each of 1 candidates, totalling 5 fits\n"
     ]
    },
    {
     "name": "stderr",
     "output_type": "stream",
     "text": [
      "[Parallel(n_jobs=1)]: Using backend SequentialBackend with 1 concurrent workers.\n",
      "[Parallel(n_jobs=1)]: Done   5 out of   5 | elapsed:   16.6s finished\n"
     ]
    }
   ],
   "source": [
    "xgbc,predict,test,all_data = xgboost_ohlc.c_model_generate(version=version,ohlc=seconds,data_columns=data_columns,target_column=target_column,data_size=data_size,over_fit=True)\n",
    "\n"
   ]
  },
  {
   "cell_type": "code",
   "execution_count": 60,
   "metadata": {},
   "outputs": [],
   "source": [
    "threshold = 0.3117\n",
    "income = [0]\n",
    "cnt1 = 0\n",
    "cnt2 = 0\n",
    "for i,p in enumerate(predict):\n",
    "    if p > threshold:\n",
    "        income.append(income[-1]+0.01*(1 if test.values[i] else -1)*(2*rate)*all_data[-1000:]['Close'].values[i])\n",
    "        if test.values[i]:\n",
    "            cnt1+= 1\n",
    "        else:\n",
    "            cnt2 +=1\n",
    "    else:\n",
    "        income.append(income[-1])"
   ]
  },
  {
   "cell_type": "code",
   "execution_count": 52,
   "metadata": {},
   "outputs": [
    {
     "data": {
      "text/plain": [
       "[<matplotlib.lines.Line2D at 0x1224746d0>]"
      ]
     },
     "execution_count": 52,
     "metadata": {},
     "output_type": "execute_result"
    },
    {
     "data": {
      "image/png": "[encoded data removed]",
      "text/plain": [
       "<Figure size 432x288 with 1 Axes>"
      ]
     },
     "metadata": {
      "needs_background": "light"
     },
     "output_type": "display_data"
    }
   ],
   "source": [
    "plt.plot(income)"
   ]
  },
  {
   "cell_type": "code",
   "execution_count": 15,
   "metadata": {},
   "outputs": [
    {
     "data": {
      "text/plain": [
       "2.0"
      ]
     },
     "execution_count": 15,
     "metadata": {},
     "output_type": "execute_result"
    }
   ],
   "source": [
    "np.ceil(1.9)"
   ]
  },
  {
   "cell_type": "code",
   "execution_count": 70,
   "metadata": {},
   "outputs": [],
   "source": [
    "executions = pd.read_csv('skynet/bf/data/raw/executions.csv')\n",
    "executions['exec_date'] = executions['exec_date'].apply(lambda x: dateutil.parser.parse(x).timestamp())\n",
    "executions['exec_date_ceil'] = executions['exec_date'].apply(np.ceil).astype(int)\n",
    "grouped = executions.groupby('exec_date_ceil')\n",
    "seconds = pd.DataFrame()\n",
    "seconds['timestamp'] = grouped['exec_date_ceil'].first()\n",
    "seconds['Open'] = grouped['price'].first()\n",
    "seconds['High'] = grouped['price'].max()\n",
    "seconds['Low'] = grouped['price'].min()\n",
    "seconds['Close'] = grouped['price'].last()\n",
    "seconds = seconds.reset_index(drop=True)\n",
    "\n",
    "seconds['Pure_Convergence'] = False\n",
    "#どっちに先に到達しているかを確認するためのcode\n",
    "rate = 0.00025\n",
    "for i in range(seconds.shape[0]-1):\n",
    "    base = seconds['Close'].values[i]\n",
    "    upper = False\n",
    "    lower = False\n",
    "    flag = False\n",
    "    cnt = 1\n",
    "    while i+cnt <= seconds.shape[0]-1:\n",
    "        if base*(1+rate) <= seconds['High'].values[i+cnt]:\n",
    "            upper = True\n",
    "            if base*(1+2*rate) <= seconds['High'].values[i+cnt]:\n",
    "                break\n",
    "                \n",
    "        if seconds['Low'].values[i+cnt] <= base*(1-rate):\n",
    "            lower = True\n",
    "            if seconds['Low'].values[i+cnt] <= base*(1-2*rate):\n",
    "                break\n",
    "                \n",
    "        if upper and lower:\n",
    "            flag = True\n",
    "            break\n",
    "            \n",
    "        cnt += 1\n",
    "        \n",
    "    seconds['Pure_Convergence'].values[i] = flag\n",
    "    \n",
    "seconds.to_csv('skynet/bf/data/processed/seconds.csv',index=False)"
   ]
  },
  {
   "cell_type": "code",
   "execution_count": 17,
   "metadata": {},
   "outputs": [
    {
     "data": {
      "text/html": [
       "<div>\n",
       "<style scoped>\n",
       "    .dataframe tbody tr th:only-of-type {\n",
       "        vertical-align: middle;\n",
       "    }\n",
       "\n",
       "    .dataframe tbody tr th {\n",
       "        vertical-align: top;\n",
       "    }\n",
       "\n",
       "    .dataframe thead th {\n",
       "        text-align: right;\n",
       "    }\n",
       "</style>\n",
       "<table border=\"1\" class=\"dataframe\">\n",
       "  <thead>\n",
       "    <tr style=\"text-align: right;\">\n",
       "      <th></th>\n",
       "      <th>Open</th>\n",
       "      <th>Close</th>\n",
       "      <th>MACDS/O</th>\n",
       "      <th>RSI</th>\n",
       "      <th>ATR/O</th>\n",
       "      <th>C/O</th>\n",
       "      <th>O-1/C</th>\n",
       "      <th>H/O</th>\n",
       "      <th>L/O</th>\n",
       "      <th>SignLine</th>\n",
       "      <th>3SignLine</th>\n",
       "      <th>Target_Pure_Convergence</th>\n",
       "    </tr>\n",
       "  </thead>\n",
       "  <tbody>\n",
       "    <tr>\n",
       "      <th>0</th>\n",
       "      <td>1701000.0</td>\n",
       "      <td>1701422.0</td>\n",
       "      <td>NaN</td>\n",
       "      <td>NaN</td>\n",
       "      <td>NaN</td>\n",
       "      <td>1.0002480894</td>\n",
       "      <td>NaN</td>\n",
       "      <td>1.0002480894</td>\n",
       "      <td>0.9999900059</td>\n",
       "      <td>1</td>\n",
       "      <td>NaN</td>\n",
       "      <td>False</td>\n",
       "    </tr>\n",
       "    <tr>\n",
       "      <th>1</th>\n",
       "      <td>1701422.0</td>\n",
       "      <td>1701173.0</td>\n",
       "      <td>NaN</td>\n",
       "      <td>NaN</td>\n",
       "      <td>NaN</td>\n",
       "      <td>0.9998536518</td>\n",
       "      <td>0.9998983055</td>\n",
       "      <td>1.0000858106</td>\n",
       "      <td>0.9996279583</td>\n",
       "      <td>-1</td>\n",
       "      <td>NaN</td>\n",
       "      <td>False</td>\n",
       "    </tr>\n",
       "    <tr>\n",
       "      <th>2</th>\n",
       "      <td>1701173.0</td>\n",
       "      <td>1701116.0</td>\n",
       "      <td>NaN</td>\n",
       "      <td>NaN</td>\n",
       "      <td>NaN</td>\n",
       "      <td>0.9999664937</td>\n",
       "      <td>1.0001798819</td>\n",
       "      <td>1.0000000000</td>\n",
       "      <td>0.9997648681</td>\n",
       "      <td>-1</td>\n",
       "      <td>-1.0</td>\n",
       "      <td>False</td>\n",
       "    </tr>\n",
       "    <tr>\n",
       "      <th>3</th>\n",
       "      <td>1700943.0</td>\n",
       "      <td>1700898.0</td>\n",
       "      <td>NaN</td>\n",
       "      <td>NaN</td>\n",
       "      <td>NaN</td>\n",
       "      <td>0.9999735441</td>\n",
       "      <td>1.0001616793</td>\n",
       "      <td>1.0000423295</td>\n",
       "      <td>0.9998636051</td>\n",
       "      <td>-1</td>\n",
       "      <td>-3.0</td>\n",
       "      <td>False</td>\n",
       "    </tr>\n",
       "    <tr>\n",
       "      <th>4</th>\n",
       "      <td>1700889.0</td>\n",
       "      <td>1700763.0</td>\n",
       "      <td>NaN</td>\n",
       "      <td>NaN</td>\n",
       "      <td>NaN</td>\n",
       "      <td>0.9999259211</td>\n",
       "      <td>1.0001058349</td>\n",
       "      <td>1.0000064672</td>\n",
       "      <td>0.9998065717</td>\n",
       "      <td>-1</td>\n",
       "      <td>-3.0</td>\n",
       "      <td>False</td>\n",
       "    </tr>\n",
       "    <tr>\n",
       "      <th>...</th>\n",
       "      <td>...</td>\n",
       "      <td>...</td>\n",
       "      <td>...</td>\n",
       "      <td>...</td>\n",
       "      <td>...</td>\n",
       "      <td>...</td>\n",
       "      <td>...</td>\n",
       "      <td>...</td>\n",
       "      <td>...</td>\n",
       "      <td>...</td>\n",
       "      <td>...</td>\n",
       "      <td>...</td>\n",
       "    </tr>\n",
       "    <tr>\n",
       "      <th>60524</th>\n",
       "      <td>1721171.0</td>\n",
       "      <td>1721240.0</td>\n",
       "      <td>0.0000417317</td>\n",
       "      <td>64.2243587842</td>\n",
       "      <td>0.0000879340</td>\n",
       "      <td>1.0000400890</td>\n",
       "      <td>0.9998820618</td>\n",
       "      <td>1.0000400890</td>\n",
       "      <td>1.0000000000</td>\n",
       "      <td>1</td>\n",
       "      <td>3.0</td>\n",
       "      <td>False</td>\n",
       "    </tr>\n",
       "    <tr>\n",
       "      <th>60525</th>\n",
       "      <td>1721337.0</td>\n",
       "      <td>1721468.0</td>\n",
       "      <td>0.0000378211</td>\n",
       "      <td>68.5899418906</td>\n",
       "      <td>0.0000884168</td>\n",
       "      <td>1.0000761036</td>\n",
       "      <td>0.9998274728</td>\n",
       "      <td>1.0000946938</td>\n",
       "      <td>1.0000000000</td>\n",
       "      <td>1</td>\n",
       "      <td>3.0</td>\n",
       "      <td>False</td>\n",
       "    </tr>\n",
       "    <tr>\n",
       "      <th>60526</th>\n",
       "      <td>1721260.0</td>\n",
       "      <td>1721260.0</td>\n",
       "      <td>0.0000200930</td>\n",
       "      <td>61.2472606631</td>\n",
       "      <td>0.0000821014</td>\n",
       "      <td>1.0000000000</td>\n",
       "      <td>1.0000447347</td>\n",
       "      <td>1.0000000000</td>\n",
       "      <td>1.0000000000</td>\n",
       "      <td>1</td>\n",
       "      <td>3.0</td>\n",
       "      <td>False</td>\n",
       "    </tr>\n",
       "    <tr>\n",
       "      <th>60527</th>\n",
       "      <td>1721468.0</td>\n",
       "      <td>1721245.0</td>\n",
       "      <td>-0.0000159353</td>\n",
       "      <td>60.7422532595</td>\n",
       "      <td>0.0000868176</td>\n",
       "      <td>0.9998704594</td>\n",
       "      <td>1.0000087146</td>\n",
       "      <td>1.0000185888</td>\n",
       "      <td>0.9998704594</td>\n",
       "      <td>-1</td>\n",
       "      <td>1.0</td>\n",
       "      <td>False</td>\n",
       "    </tr>\n",
       "    <tr>\n",
       "      <th>60528</th>\n",
       "      <td>1721320.0</td>\n",
       "      <td>1721265.0</td>\n",
       "      <td>-0.0000205174</td>\n",
       "      <td>61.2016080207</td>\n",
       "      <td>0.0000880027</td>\n",
       "      <td>0.9999680478</td>\n",
       "      <td>1.0001179365</td>\n",
       "      <td>1.0000714568</td>\n",
       "      <td>0.9999680478</td>\n",
       "      <td>-1</td>\n",
       "      <td>-1.0</td>\n",
       "      <td>False</td>\n",
       "    </tr>\n",
       "  </tbody>\n",
       "</table>\n",
       "<p>60529 rows × 12 columns</p>\n",
       "</div>"
      ],
      "text/plain": [
       "            Open      Close       MACDS/O            RSI         ATR/O  \\\n",
       "0      1701000.0  1701422.0           NaN            NaN           NaN   \n",
       "1      1701422.0  1701173.0           NaN            NaN           NaN   \n",
       "2      1701173.0  1701116.0           NaN            NaN           NaN   \n",
       "3      1700943.0  1700898.0           NaN            NaN           NaN   \n",
       "4      1700889.0  1700763.0           NaN            NaN           NaN   \n",
       "...          ...        ...           ...            ...           ...   \n",
       "60524  1721171.0  1721240.0  0.0000417317  64.2243587842  0.0000879340   \n",
       "60525  1721337.0  1721468.0  0.0000378211  68.5899418906  0.0000884168   \n",
       "60526  1721260.0  1721260.0  0.0000200930  61.2472606631  0.0000821014   \n",
       "60527  1721468.0  1721245.0 -0.0000159353  60.7422532595  0.0000868176   \n",
       "60528  1721320.0  1721265.0 -0.0000205174  61.2016080207  0.0000880027   \n",
       "\n",
       "                C/O         O-1/C           H/O           L/O  SignLine  \\\n",
       "0      1.0002480894           NaN  1.0002480894  0.9999900059         1   \n",
       "1      0.9998536518  0.9998983055  1.0000858106  0.9996279583        -1   \n",
       "2      0.9999664937  1.0001798819  1.0000000000  0.9997648681        -1   \n",
       "3      0.9999735441  1.0001616793  1.0000423295  0.9998636051        -1   \n",
       "4      0.9999259211  1.0001058349  1.0000064672  0.9998065717        -1   \n",
       "...             ...           ...           ...           ...       ...   \n",
       "60524  1.0000400890  0.9998820618  1.0000400890  1.0000000000         1   \n",
       "60525  1.0000761036  0.9998274728  1.0000946938  1.0000000000         1   \n",
       "60526  1.0000000000  1.0000447347  1.0000000000  1.0000000000         1   \n",
       "60527  0.9998704594  1.0000087146  1.0000185888  0.9998704594        -1   \n",
       "60528  0.9999680478  1.0001179365  1.0000714568  0.9999680478        -1   \n",
       "\n",
       "       3SignLine  Target_Pure_Convergence  \n",
       "0            NaN                    False  \n",
       "1            NaN                    False  \n",
       "2           -1.0                    False  \n",
       "3           -3.0                    False  \n",
       "4           -3.0                    False  \n",
       "...          ...                      ...  \n",
       "60524        3.0                    False  \n",
       "60525        3.0                    False  \n",
       "60526        3.0                    False  \n",
       "60527        1.0                    False  \n",
       "60528       -1.0                    False  \n",
       "\n",
       "[60529 rows x 12 columns]"
      ]
     },
     "execution_count": 17,
     "metadata": {},
     "output_type": "execute_result"
    }
   ],
   "source": [
    "seconds.copy()"
   ]
  }
 ],
 "metadata": {
  "kernelspec": {
   "display_name": "Python 3",
   "language": "python",
   "name": "python3"
  },
  "language_info": {
   "codemirror_mode": {
    "name": "ipython",
    "version": 3
   },
   "file_extension": ".py",
   "mimetype": "text/x-python",
   "name": "python",
   "nbconvert_exporter": "python",
   "pygments_lexer": "ipython3",
   "version": "3.8.0"
  }
 },
 "nbformat": 4,
 "nbformat_minor": 4
}
