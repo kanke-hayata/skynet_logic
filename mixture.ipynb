{
 "cells": [
  {
   "cell_type": "code",
   "execution_count": 119,
   "metadata": {},
   "outputs": [],
   "source": [
    "import pybitflyer\n",
    "import json\n",
    "import time\n",
    "from threading import Thread\n",
    "import threading\n",
    "import os\n",
    "import pandas as pd\n",
    "import talib\n",
    "import matplotlib.pyplot as plt\n",
    "import datetime\n",
    "from IPython.display import display, clear_output\n",
    "import requests\n",
    "import numpy as np\n",
    "import xgboost \n",
    "from sklearn.model_selection import train_test_split, GridSearchCV\n",
    "import copy\n",
    "import datetime\n",
    "import pickle\n",
    "%matplotlib inline"
   ]
  },
  {
   "cell_type": "code",
   "execution_count": 120,
   "metadata": {},
   "outputs": [],
   "source": [
    "# -------------------------------------\n",
    "\n",
    "end_point = 'wss://ws.lightstream.bitflyer.com/json-rpc'\n",
    "\n",
    "public_channels = ['lightning_executions_FX_BTC_JPY','lightning_board_snapshot_FX_BTC_JPY']\n",
    "private_channels = ['child_order_events', 'parent_order_events']\n",
    "# -------------------------------------"
   ]
  },
  {
   "cell_type": "code",
   "execution_count": null,
   "metadata": {},
   "outputs": [],
   "source": [
    "#59分問題解決？\n",
    "for d in range(7,20):\n",
    "    ohlc2 = pd.read_csv('scraping-bot/2020-08-'+str(d).zfill(2)+'-min.csv')\n",
    "    ohlc3 = pd.read_csv('scraping-bot/2020-08-'+str(d+1).zfill(2)+'-min.csv')\n",
    "    \n",
    "    pb = pybitflyer.API(api_key=key,api_secret=secret)\n",
    "    executions = pb.executions(product_code='FX_BTC_JPY')\n",
    "    date = (dateutil.parser.parse(executions[-1]['exec_date']) + timedelta(hours=9))\n",
    "    last_id = 10**10\n",
    "    last_id = ohlc3['start-id'].values[0]\n",
    "    while True:\n",
    "        df_day = pd.DataFrame(columns=['start-id','end-id','timestamp','Open','High','Low','Close','Volume','day','month','year'])\n",
    "        while True:\n",
    "            df_minute = pd.DataFrame(columns=['id','side','price','size','timestamp','minute','day','month','year'])\n",
    "            while True:\n",
    "                time.sleep(0.6)\n",
    "                r = pb.executions(product_code='FX_BTC_JPY',count=500,before=last_id)\n",
    "                if type(r) != list:\n",
    "                    print(r)\n",
    "                    time.sleep(60)\n",
    "                else:\n",
    "                    executions = r[::-1]\n",
    "                    df_executions = pd.DataFrame(executions)\n",
    "                    df_executions['timestamp'] = df_executions['exec_date'].apply(lambda x: int((dateutil.parser.parse(x)).timestamp()))\n",
    "                    df_executions['minute'] = df_executions['exec_date'].apply(lambda x: (dateutil.parser.parse(x)+timedelta(hours=9)).minute)\n",
    "                    df_executions['day'] = df_executions['exec_date'].apply(lambda x: (dateutil.parser.parse(x)+timedelta(hours=9)).day)\n",
    "                    df_executions['month'] = df_executions['exec_date'].apply(lambda x: (dateutil.parser.parse(x)+timedelta(hours=9)).month)\n",
    "                    df_executions['year'] = df_executions['exec_date'].apply(lambda x: (dateutil.parser.parse(x)+timedelta(hours=9)).year)\n",
    "                    df_executions = df_executions[['id','side','price','size','timestamp','minute','day','month','year']]\n",
    "                    df_minute = pd.concat([df_executions,df_minute],ignore_index=True)\n",
    "\n",
    "                    last_id = df_minute['id'].values[0]\n",
    "\n",
    "                    if df_minute['minute'].nunique() >= 2:\n",
    "                        df_minute = df_minute[df_minute['minute'] == df_minute['minute'].values[-1]]\n",
    "                        #無駄に捨てすぎないように再利用\n",
    "                        last_id = df_minute['id'].values[0]\n",
    "                        minute_record = pd.DataFrame({'start-id':[df_minute['id'].values[0]],\n",
    "                                                                                 'end-id':[df_minute['id'].values[-1]],\n",
    "                                                                                 'timestamp':[int(df_minute['timestamp'].mean())-(int(df_minute['timestamp'].mean())%60)],\n",
    "                                                                                 'Open':[df_minute['price'].values[0]],\n",
    "                                                                                 'High':[df_minute['price'].max()],\n",
    "                                                                                 'Low':[df_minute['price'].min()],\n",
    "                                                                                 'Close':[df_minute['price'].values[-1]],\n",
    "                                                                                'Volume':[df_minute['size'].sum()],\n",
    "                                                                                'day':[df_minute['day'].values[0]],\n",
    "                                                                                'month':[df_minute['month'].values[0]],\n",
    "                                                                                'year':[df_minute['year'].values[0]]})\n",
    "                        df_day = pd.concat([minute_record,df_day],ignore_index=True)\n",
    "                        break\n",
    "\n",
    "            print(df_day.shape)\n",
    "            break\n",
    "            if df_day['day'].nunique() >= 2:\n",
    "                df_day = df_day[df_day['day'] == df_day['day'].values[-1]]\n",
    "                last_id = df_day['start-id'].values[0]\n",
    "                day = str(df_day['day'].values[0]).zfill(2)\n",
    "                month =str(df_day['month'].values[0]).zfill(2)\n",
    "                year = str(df_day['year'].values[0])\n",
    "                df_day = df_day[['start-id','end-id','timestamp','Open','High','Low','Close','Volume']]\n",
    "                df_day.to_csv(year+'-'+month+'-'+day+'-'+'min.csv',index=False)\n",
    "                break\n",
    "        break\n",
    "    print('now')\n",
    "    ohlc2 = pd.concat([ohlc2,df_day.tail(1)[['start-id','end-id','timestamp','Open','High','Low','Close','Volume']]],ignore_index=True)\n",
    "    ohlc2.to_csv('scraping-bot/2020-08-'+str(d).zfill(2)+'-min.csv',index=False)"
   ]
  },
  {
   "cell_type": "code",
   "execution_count": 1,
   "metadata": {},
   "outputs": [],
   "source": [
    "import pandas as pd"
   ]
  },
  {
   "cell_type": "code",
   "execution_count": 184,
   "metadata": {},
   "outputs": [],
   "source": [
    "ps = pd.DataFrame(columns =['price','size'])\n",
    "ps = ps.append(pd.Series([110,0.1],index=['price','size']),ignore_index=True)\n",
    "ps = ps.append(pd.Series([111,0.2],index=['price','size']),ignore_index=True)\n",
    "ps = ps.append(pd.Series([112,0.4],index=['price','size']),ignore_index=True)\n",
    "ps = ps.append(pd.Series([113,0.8],index=['price','size']),ignore_index=True)"
   ]
  },
  {
   "cell_type": "code",
   "execution_count": 190,
   "metadata": {},
   "outputs": [
    {
     "data": {
      "text/html": [
       "<div>\n",
       "<style scoped>\n",
       "    .dataframe tbody tr th:only-of-type {\n",
       "        vertical-align: middle;\n",
       "    }\n",
       "\n",
       "    .dataframe tbody tr th {\n",
       "        vertical-align: top;\n",
       "    }\n",
       "\n",
       "    .dataframe thead th {\n",
       "        text-align: right;\n",
       "    }\n",
       "</style>\n",
       "<table border=\"1\" class=\"dataframe\">\n",
       "  <thead>\n",
       "    <tr style=\"text-align: right;\">\n",
       "      <th></th>\n",
       "      <th>price</th>\n",
       "      <th>size</th>\n",
       "      <th>cumsum</th>\n",
       "      <th>cumsum2</th>\n",
       "    </tr>\n",
       "  </thead>\n",
       "  <tbody>\n",
       "    <tr>\n",
       "      <th>0</th>\n",
       "      <td>110.0</td>\n",
       "      <td>0.1</td>\n",
       "      <td>0.1</td>\n",
       "      <td>0.0</td>\n",
       "    </tr>\n",
       "    <tr>\n",
       "      <th>1</th>\n",
       "      <td>111.0</td>\n",
       "      <td>0.2</td>\n",
       "      <td>0.3</td>\n",
       "      <td>0.1</td>\n",
       "    </tr>\n",
       "    <tr>\n",
       "      <th>2</th>\n",
       "      <td>112.0</td>\n",
       "      <td>0.4</td>\n",
       "      <td>0.7</td>\n",
       "      <td>0.3</td>\n",
       "    </tr>\n",
       "    <tr>\n",
       "      <th>3</th>\n",
       "      <td>113.0</td>\n",
       "      <td>0.8</td>\n",
       "      <td>1.5</td>\n",
       "      <td>0.7</td>\n",
       "    </tr>\n",
       "  </tbody>\n",
       "</table>\n",
       "</div>"
      ],
      "text/plain": [
       "   price  size  cumsum  cumsum2\n",
       "0  110.0   0.1     0.1      0.0\n",
       "1  111.0   0.2     0.3      0.1\n",
       "2  112.0   0.4     0.7      0.3\n",
       "3  113.0   0.8     1.5      0.7"
      ]
     },
     "execution_count": 190,
     "metadata": {},
     "output_type": "execute_result"
    }
   ],
   "source": [
    "ps"
   ]
  },
  {
   "cell_type": "code",
   "execution_count": 187,
   "metadata": {},
   "outputs": [],
   "source": [
    "ps['cumsum'] = ps['size'].cumsum()"
   ]
  },
  {
   "cell_type": "code",
   "execution_count": 163,
   "metadata": {},
   "outputs": [],
   "source": [
    "vol = 0.45"
   ]
  },
  {
   "cell_type": "code",
   "execution_count": 189,
   "metadata": {},
   "outputs": [],
   "source": [
    "ps['cumsum2'] = ps['cumsum']-ps['size']"
   ]
  },
  {
   "cell_type": "code",
   "execution_count": 174,
   "metadata": {},
   "outputs": [],
   "source": [
    "ps2 = ps[ps['cumsum2'] < vol]"
   ]
  },
  {
   "cell_type": "code",
   "execution_count": 178,
   "metadata": {},
   "outputs": [
    {
     "data": {
      "text/plain": [
       "(3, 4)"
      ]
     },
     "execution_count": 178,
     "metadata": {},
     "output_type": "execute_result"
    }
   ],
   "source": [
    "ps2.shape"
   ]
  },
  {
   "cell_type": "code",
   "execution_count": 180,
   "metadata": {},
   "outputs": [
    {
     "data": {
      "text/html": [
       "<div>\n",
       "<style scoped>\n",
       "    .dataframe tbody tr th:only-of-type {\n",
       "        vertical-align: middle;\n",
       "    }\n",
       "\n",
       "    .dataframe tbody tr th {\n",
       "        vertical-align: top;\n",
       "    }\n",
       "\n",
       "    .dataframe thead th {\n",
       "        text-align: right;\n",
       "    }\n",
       "</style>\n",
       "<table border=\"1\" class=\"dataframe\">\n",
       "  <thead>\n",
       "    <tr style=\"text-align: right;\">\n",
       "      <th></th>\n",
       "      <th>price</th>\n",
       "      <th>size</th>\n",
       "      <th>cumsum</th>\n",
       "      <th>cumsum2</th>\n",
       "    </tr>\n",
       "  </thead>\n",
       "  <tbody>\n",
       "    <tr>\n",
       "      <th>0</th>\n",
       "      <td>110.0</td>\n",
       "      <td>0.1</td>\n",
       "      <td>0.1</td>\n",
       "      <td>0.0</td>\n",
       "    </tr>\n",
       "    <tr>\n",
       "      <th>1</th>\n",
       "      <td>111.0</td>\n",
       "      <td>0.2</td>\n",
       "      <td>0.3</td>\n",
       "      <td>0.1</td>\n",
       "    </tr>\n",
       "    <tr>\n",
       "      <th>2</th>\n",
       "      <td>112.0</td>\n",
       "      <td>0.4</td>\n",
       "      <td>0.7</td>\n",
       "      <td>0.3</td>\n",
       "    </tr>\n",
       "  </tbody>\n",
       "</table>\n",
       "</div>"
      ],
      "text/plain": [
       "   price  size  cumsum  cumsum2\n",
       "0  110.0   0.1     0.1      0.0\n",
       "1  111.0   0.2     0.3      0.1\n",
       "2  112.0   0.4     0.7      0.3"
      ]
     },
     "execution_count": 180,
     "metadata": {},
     "output_type": "execute_result"
    }
   ],
   "source": [
    "ps2"
   ]
  },
  {
   "cell_type": "code",
   "execution_count": 182,
   "metadata": {},
   "outputs": [],
   "source": [
    "ps2.at[ps2.shape[0]-1,'size'] = vol-ps2.at[ps2.shape[0]-1,'cumsum2']"
   ]
  },
  {
   "cell_type": "code",
   "execution_count": 183,
   "metadata": {},
   "outputs": [
    {
     "data": {
      "text/html": [
       "<div>\n",
       "<style scoped>\n",
       "    .dataframe tbody tr th:only-of-type {\n",
       "        vertical-align: middle;\n",
       "    }\n",
       "\n",
       "    .dataframe tbody tr th {\n",
       "        vertical-align: top;\n",
       "    }\n",
       "\n",
       "    .dataframe thead th {\n",
       "        text-align: right;\n",
       "    }\n",
       "</style>\n",
       "<table border=\"1\" class=\"dataframe\">\n",
       "  <thead>\n",
       "    <tr style=\"text-align: right;\">\n",
       "      <th></th>\n",
       "      <th>price</th>\n",
       "      <th>size</th>\n",
       "      <th>cumsum</th>\n",
       "      <th>cumsum2</th>\n",
       "    </tr>\n",
       "  </thead>\n",
       "  <tbody>\n",
       "    <tr>\n",
       "      <th>0</th>\n",
       "      <td>110.0</td>\n",
       "      <td>0.10</td>\n",
       "      <td>0.1</td>\n",
       "      <td>0.0</td>\n",
       "    </tr>\n",
       "    <tr>\n",
       "      <th>1</th>\n",
       "      <td>111.0</td>\n",
       "      <td>0.20</td>\n",
       "      <td>0.3</td>\n",
       "      <td>0.1</td>\n",
       "    </tr>\n",
       "    <tr>\n",
       "      <th>2</th>\n",
       "      <td>112.0</td>\n",
       "      <td>0.15</td>\n",
       "      <td>0.7</td>\n",
       "      <td>0.3</td>\n",
       "    </tr>\n",
       "  </tbody>\n",
       "</table>\n",
       "</div>"
      ],
      "text/plain": [
       "   price  size  cumsum  cumsum2\n",
       "0  110.0  0.10     0.1      0.0\n",
       "1  111.0  0.20     0.3      0.1\n",
       "2  112.0  0.15     0.7      0.3"
      ]
     },
     "execution_count": 183,
     "metadata": {},
     "output_type": "execute_result"
    }
   ],
   "source": [
    "ps2"
   ]
  },
  {
   "cell_type": "code",
   "execution_count": 79,
   "metadata": {},
   "outputs": [
    {
     "data": {
      "text/plain": [
       "numpy.float64"
      ]
     },
     "execution_count": 79,
     "metadata": {},
     "output_type": "execute_result"
    }
   ],
   "source": [
    "type(ps.loc[0,'price'])"
   ]
  },
  {
   "cell_type": "code",
   "execution_count": 85,
   "metadata": {},
   "outputs": [],
   "source": [
    "import copy"
   ]
  },
  {
   "cell_type": "code",
   "execution_count": 106,
   "metadata": {},
   "outputs": [],
   "source": [
    "import numpy as np"
   ]
  },
  {
   "cell_type": "code",
   "execution_count": 114,
   "metadata": {},
   "outputs": [],
   "source": [
    "ps['cumsum'] = ps['size'].cumsum()\n",
    "positions_for_income = ps[ps['cumsum'] <= 0.17].reset_index(drop=True)\n",
    "price = positions_for_income['price'].values\n",
    "size = positions_for_income['size'].values\n",
    "ps = ps[ps['cumsum'] > 0.17].reset_index(drop=True)\n",
    "price = np.append(price,ps['price'].values[0])\n",
    "size = np.append(size,(0.17-positions_for_income['cumsum'].values[-1]))"
   ]
  },
  {
   "cell_type": "code",
   "execution_count": 115,
   "metadata": {},
   "outputs": [
    {
     "data": {
      "text/plain": [
       "array([110., 110.])"
      ]
     },
     "execution_count": 115,
     "metadata": {},
     "output_type": "execute_result"
    }
   ],
   "source": [
    "price"
   ]
  },
  {
   "cell_type": "code",
   "execution_count": 116,
   "metadata": {},
   "outputs": [
    {
     "data": {
      "text/plain": [
       "array([0.1 , 0.07])"
      ]
     },
     "execution_count": 116,
     "metadata": {},
     "output_type": "execute_result"
    }
   ],
   "source": [
    "size"
   ]
  },
  {
   "cell_type": "code",
   "execution_count": 102,
   "metadata": {},
   "outputs": [
    {
     "data": {
      "text/html": [
       "<div>\n",
       "<style scoped>\n",
       "    .dataframe tbody tr th:only-of-type {\n",
       "        vertical-align: middle;\n",
       "    }\n",
       "\n",
       "    .dataframe tbody tr th {\n",
       "        vertical-align: top;\n",
       "    }\n",
       "\n",
       "    .dataframe thead th {\n",
       "        text-align: right;\n",
       "    }\n",
       "</style>\n",
       "<table border=\"1\" class=\"dataframe\">\n",
       "  <thead>\n",
       "    <tr style=\"text-align: right;\">\n",
       "      <th></th>\n",
       "      <th>price</th>\n",
       "      <th>size</th>\n",
       "      <th>cumsum</th>\n",
       "    </tr>\n",
       "  </thead>\n",
       "  <tbody>\n",
       "    <tr>\n",
       "      <th>0</th>\n",
       "      <td>110.0</td>\n",
       "      <td>0.1</td>\n",
       "      <td>0.1</td>\n",
       "    </tr>\n",
       "    <tr>\n",
       "      <th>1</th>\n",
       "      <td>110.0</td>\n",
       "      <td>0.1</td>\n",
       "      <td>0.2</td>\n",
       "    </tr>\n",
       "    <tr>\n",
       "      <th>2</th>\n",
       "      <td>110.0</td>\n",
       "      <td>0.1</td>\n",
       "      <td>0.3</td>\n",
       "    </tr>\n",
       "  </tbody>\n",
       "</table>\n",
       "</div>"
      ],
      "text/plain": [
       "   price  size  cumsum\n",
       "0  110.0   0.1     0.1\n",
       "1  110.0   0.1     0.2\n",
       "2  110.0   0.1     0.3"
      ]
     },
     "execution_count": 102,
     "metadata": {},
     "output_type": "execute_result"
    }
   ],
   "source": [
    "price = ps['price'].values\n",
    "size=  ps['size'].values\n",
    "price"
   ]
  },
  {
   "cell_type": "code",
   "execution_count": 88,
   "metadata": {},
   "outputs": [
    {
     "name": "stderr",
     "output_type": "stream",
     "text": [
      "<ipython-input-88-c47ece35b68e>:5: SettingWithCopyWarning: \n",
      "A value is trying to be set on a copy of a slice from a DataFrame\n",
      "\n",
      "See the caveats in the documentation: https://pandas.pydata.org/pandas-docs/stable/user_guide/indexing.html#returning-a-view-versus-a-copy\n",
      "  tail.loc[0,'size'] = 0.17 - (copy.deepcopy(tail.loc[0,'cumsum'])-copy.deepcopy(tail.loc[0,'size']))\n"
     ]
    }
   ],
   "source": [
    "ps['cumsum'] = ps['size'].cumsum()\n",
    "positions_for_income = ps[ps['cumsum'] <= 0.17].reset_index(drop=True)\n",
    "ps = ps[ps['cumsum'] > 0.17].reset_index(drop=True)\n",
    "tail = ps.head(1)\n",
    "tail.loc[0,'size'] = 0.17 - (tail.loc[0,'cumsum']-tail.loc[0,'size'])\n",
    "positions_for_income = positions_for_income.append(tail,ignore_index=True)"
   ]
  },
  {
   "cell_type": "code",
   "execution_count": 77,
   "metadata": {},
   "outputs": [
    {
     "data": {
      "text/html": [
       "<div>\n",
       "<style scoped>\n",
       "    .dataframe tbody tr th:only-of-type {\n",
       "        vertical-align: middle;\n",
       "    }\n",
       "\n",
       "    .dataframe tbody tr th {\n",
       "        vertical-align: top;\n",
       "    }\n",
       "\n",
       "    .dataframe thead th {\n",
       "        text-align: right;\n",
       "    }\n",
       "</style>\n",
       "<table border=\"1\" class=\"dataframe\">\n",
       "  <thead>\n",
       "    <tr style=\"text-align: right;\">\n",
       "      <th></th>\n",
       "      <th>price</th>\n",
       "      <th>size</th>\n",
       "      <th>cumsum</th>\n",
       "    </tr>\n",
       "  </thead>\n",
       "  <tbody>\n",
       "    <tr>\n",
       "      <th>0</th>\n",
       "      <td>110.0</td>\n",
       "      <td>0.10</td>\n",
       "      <td>0.1</td>\n",
       "    </tr>\n",
       "    <tr>\n",
       "      <th>1</th>\n",
       "      <td>110.0</td>\n",
       "      <td>0.07</td>\n",
       "      <td>0.2</td>\n",
       "    </tr>\n",
       "  </tbody>\n",
       "</table>\n",
       "</div>"
      ],
      "text/plain": [
       "   price  size  cumsum\n",
       "0  110.0  0.10     0.1\n",
       "1  110.0  0.07     0.2"
      ]
     },
     "execution_count": 77,
     "metadata": {},
     "output_type": "execute_result"
    }
   ],
   "source": [
    "positions_for_income"
   ]
  },
  {
   "cell_type": "code",
   "execution_count": 60,
   "metadata": {},
   "outputs": [
    {
     "data": {
      "text/html": [
       "<div>\n",
       "<style scoped>\n",
       "    .dataframe tbody tr th:only-of-type {\n",
       "        vertical-align: middle;\n",
       "    }\n",
       "\n",
       "    .dataframe tbody tr th {\n",
       "        vertical-align: top;\n",
       "    }\n",
       "\n",
       "    .dataframe thead th {\n",
       "        text-align: right;\n",
       "    }\n",
       "</style>\n",
       "<table border=\"1\" class=\"dataframe\">\n",
       "  <thead>\n",
       "    <tr style=\"text-align: right;\">\n",
       "      <th></th>\n",
       "      <th>price</th>\n",
       "      <th>size</th>\n",
       "      <th>cumsum</th>\n",
       "    </tr>\n",
       "  </thead>\n",
       "  <tbody>\n",
       "    <tr>\n",
       "      <th>2</th>\n",
       "      <td>110.0</td>\n",
       "      <td>0.1</td>\n",
       "      <td>0.3</td>\n",
       "    </tr>\n",
       "  </tbody>\n",
       "</table>\n",
       "</div>"
      ],
      "text/plain": [
       "   price  size  cumsum\n",
       "2  110.0   0.1     0.3"
      ]
     },
     "execution_count": 60,
     "metadata": {},
     "output_type": "execute_result"
    }
   ],
   "source": [
    "ps.tail(1)"
   ]
  },
  {
   "cell_type": "code",
   "execution_count": 23,
   "metadata": {},
   "outputs": [],
   "source": [
    "ps = ps[ps['cumsum'] > 0.17].reset_index(drop=True)"
   ]
  },
  {
   "cell_type": "code",
   "execution_count": 24,
   "metadata": {},
   "outputs": [],
   "source": [
    "ps.loc[0,'size'] = ps.loc[0,'cumsum'] - 0.17"
   ]
  },
  {
   "cell_type": "code",
   "execution_count": 26,
   "metadata": {},
   "outputs": [],
   "source": [
    "ps = ps[['price','size']]"
   ]
  },
  {
   "cell_type": "code",
   "execution_count": 33,
   "metadata": {},
   "outputs": [],
   "source": [
    "ps['price2'] = ps['price']-100"
   ]
  },
  {
   "cell_type": "code",
   "execution_count": 34,
   "metadata": {},
   "outputs": [
    {
     "data": {
      "text/html": [
       "<div>\n",
       "<style scoped>\n",
       "    .dataframe tbody tr th:only-of-type {\n",
       "        vertical-align: middle;\n",
       "    }\n",
       "\n",
       "    .dataframe tbody tr th {\n",
       "        vertical-align: top;\n",
       "    }\n",
       "\n",
       "    .dataframe thead th {\n",
       "        text-align: right;\n",
       "    }\n",
       "</style>\n",
       "<table border=\"1\" class=\"dataframe\">\n",
       "  <thead>\n",
       "    <tr style=\"text-align: right;\">\n",
       "      <th></th>\n",
       "      <th>price</th>\n",
       "      <th>size</th>\n",
       "      <th>price2</th>\n",
       "    </tr>\n",
       "  </thead>\n",
       "  <tbody>\n",
       "    <tr>\n",
       "      <th>0</th>\n",
       "      <td>110.0</td>\n",
       "      <td>0.1</td>\n",
       "      <td>10.0</td>\n",
       "    </tr>\n",
       "    <tr>\n",
       "      <th>1</th>\n",
       "      <td>110.0</td>\n",
       "      <td>0.1</td>\n",
       "      <td>10.0</td>\n",
       "    </tr>\n",
       "    <tr>\n",
       "      <th>2</th>\n",
       "      <td>110.0</td>\n",
       "      <td>0.1</td>\n",
       "      <td>10.0</td>\n",
       "    </tr>\n",
       "  </tbody>\n",
       "</table>\n",
       "</div>"
      ],
      "text/plain": [
       "   price  size  price2\n",
       "0  110.0   0.1    10.0\n",
       "1  110.0   0.1    10.0\n",
       "2  110.0   0.1    10.0"
      ]
     },
     "execution_count": 34,
     "metadata": {},
     "output_type": "execute_result"
    }
   ],
   "source": [
    "ps"
   ]
  },
  {
   "cell_type": "code",
   "execution_count": 35,
   "metadata": {},
   "outputs": [],
   "source": [
    "ps['reward'] = ps['size']*ps['price2']"
   ]
  },
  {
   "cell_type": "code",
   "execution_count": 37,
   "metadata": {},
   "outputs": [
    {
     "data": {
      "text/plain": [
       "3.0"
      ]
     },
     "execution_count": 37,
     "metadata": {},
     "output_type": "execute_result"
    }
   ],
   "source": [
    "ps['reward'].sum()"
   ]
  },
  {
   "cell_type": "code",
   "execution_count": 42,
   "metadata": {},
   "outputs": [
    {
     "data": {
      "text/plain": [
       "0    109.0\n",
       "1    109.0\n",
       "2    109.0\n",
       "Name: price, dtype: float64"
      ]
     },
     "execution_count": 42,
     "metadata": {},
     "output_type": "execute_result"
    }
   ],
   "source": [
    "(1-ps['price']) * (1 if False  else -1)"
   ]
  },
  {
   "cell_type": "code",
   "execution_count": 320,
   "metadata": {},
   "outputs": [],
   "source": [
    "pyb = pybitflyer.API(api_key=key,api_secret=secret)"
   ]
  },
  {
   "cell_type": "code",
   "execution_count": 326,
   "metadata": {},
   "outputs": [],
   "source": [
    "r1 = pyb.getboardstate(product_code='FX_BTC_JPY')\n",
    "r2 = pyb.getboardstate(product_code='FX_BTC_JPY')"
   ]
  },
  {
   "cell_type": "code",
   "execution_count": 327,
   "metadata": {},
   "outputs": [
    {
     "data": {
      "text/plain": [
       "{'health': 'NORMAL', 'state': 'RUNNING'}"
      ]
     },
     "execution_count": 327,
     "metadata": {},
     "output_type": "execute_result"
    }
   ],
   "source": [
    "r1"
   ]
  },
  {
   "cell_type": "code",
   "execution_count": 328,
   "metadata": {},
   "outputs": [
    {
     "data": {
      "text/plain": [
       "{'health': 'NORMAL', 'state': 'RUNNING'}"
      ]
     },
     "execution_count": 328,
     "metadata": {},
     "output_type": "execute_result"
    }
   ],
   "source": [
    "r2"
   ]
  },
  {
   "cell_type": "code",
   "execution_count": 329,
   "metadata": {},
   "outputs": [
    {
     "name": "stdout",
     "output_type": "stream",
     "text": [
      "{'child_order_acceptance_id': 'JRF20200920-144610-204804'} {'child_order_acceptance_id': 'JRF20200920-144610-003513'}\n"
     ]
    }
   ],
   "source": [
    "result = pyb.sendchildorder(\n",
    "    product_code=\"FX_BTC_JPY\",\n",
    "    child_order_type=\"MARKET\",\n",
    "    side=\"BUY\",\n",
    "    size=0.01,\n",
    "    minute_to_expire=4,\n",
    "    time_in_force=\"GTC\"\n",
    ")\n",
    "result2 = pyb.sendchildorder(\n",
    "    product_code=\"FX_BTC_JPY\",\n",
    "    child_order_type=\"MARKET\",\n",
    "    side=\"SELL\",\n",
    "    size=0.01,\n",
    "    minute_to_expire=4,\n",
    "    time_in_force=\"GTC\"\n",
    ")\n",
    "print(result,result2)"
   ]
  },
  {
   "cell_type": "code",
   "execution_count": 194,
   "metadata": {},
   "outputs": [
    {
     "data": {
      "text/plain": [
       "{'child_order_acceptance_id': 'JRF20200916-043754-126046'}"
      ]
     },
     "execution_count": 194,
     "metadata": {},
     "output_type": "execute_result"
    }
   ],
   "source": [
    "result"
   ]
  },
  {
   "cell_type": "code",
   "execution_count": 125,
   "metadata": {},
   "outputs": [
    {
     "data": {
      "text/plain": [
       "dict_keys(['child_order_acceptance_id'])"
      ]
     },
     "execution_count": 125,
     "metadata": {},
     "output_type": "execute_result"
    }
   ],
   "source": [
    "result.keys()"
   ]
  },
  {
   "cell_type": "code",
   "execution_count": 126,
   "metadata": {},
   "outputs": [],
   "source": [
    "df = pd.DataFrame()"
   ]
  },
  {
   "cell_type": "code",
   "execution_count": 129,
   "metadata": {},
   "outputs": [],
   "source": [
    "df['flag'] = [0,1,2,3]"
   ]
  },
  {
   "cell_type": "code",
   "execution_count": 130,
   "metadata": {},
   "outputs": [],
   "source": [
    "df['size'] = [0,0,0,0]"
   ]
  },
  {
   "cell_type": "code",
   "execution_count": 149,
   "metadata": {},
   "outputs": [
    {
     "name": "stderr",
     "output_type": "stream",
     "text": [
      "<ipython-input-149-60887771d3a1>:1: SettingWithCopyWarning: \n",
      "A value is trying to be set on a copy of a slice from a DataFrame.\n",
      "Try using .loc[row_indexer,col_indexer] = value instead\n",
      "\n",
      "See the caveats in the documentation: https://pandas.pydata.org/pandas-docs/stable/user_guide/indexing.html#returning-a-view-versus-a-copy\n",
      "  df.loc[df['flag'] == 2]['size'] = 2\n"
     ]
    }
   ],
   "source": [
    "df.loc[df['flag'] == 2]['size'] = 2"
   ]
  },
  {
   "cell_type": "code",
   "execution_count": 134,
   "metadata": {},
   "outputs": [
    {
     "data": {
      "text/html": [
       "<div>\n",
       "<style scoped>\n",
       "    .dataframe tbody tr th:only-of-type {\n",
       "        vertical-align: middle;\n",
       "    }\n",
       "\n",
       "    .dataframe tbody tr th {\n",
       "        vertical-align: top;\n",
       "    }\n",
       "\n",
       "    .dataframe thead th {\n",
       "        text-align: right;\n",
       "    }\n",
       "</style>\n",
       "<table border=\"1\" class=\"dataframe\">\n",
       "  <thead>\n",
       "    <tr style=\"text-align: right;\">\n",
       "      <th></th>\n",
       "      <th>flag</th>\n",
       "      <th>size</th>\n",
       "    </tr>\n",
       "  </thead>\n",
       "  <tbody>\n",
       "    <tr>\n",
       "      <th>2</th>\n",
       "      <td>2</td>\n",
       "      <td>0</td>\n",
       "    </tr>\n",
       "  </tbody>\n",
       "</table>\n",
       "</div>"
      ],
      "text/plain": [
       "   flag  size\n",
       "2     2     0"
      ]
     },
     "execution_count": 134,
     "metadata": {},
     "output_type": "execute_result"
    }
   ],
   "source": [
    "df[df['flag'] == 2]"
   ]
  },
  {
   "cell_type": "code",
   "execution_count": 154,
   "metadata": {},
   "outputs": [],
   "source": [
    "df.loc[df['flag'] == 2,'size'] = 2"
   ]
  },
  {
   "cell_type": "code",
   "execution_count": 155,
   "metadata": {},
   "outputs": [
    {
     "data": {
      "text/html": [
       "<div>\n",
       "<style scoped>\n",
       "    .dataframe tbody tr th:only-of-type {\n",
       "        vertical-align: middle;\n",
       "    }\n",
       "\n",
       "    .dataframe tbody tr th {\n",
       "        vertical-align: top;\n",
       "    }\n",
       "\n",
       "    .dataframe thead th {\n",
       "        text-align: right;\n",
       "    }\n",
       "</style>\n",
       "<table border=\"1\" class=\"dataframe\">\n",
       "  <thead>\n",
       "    <tr style=\"text-align: right;\">\n",
       "      <th></th>\n",
       "      <th>flag</th>\n",
       "      <th>size</th>\n",
       "    </tr>\n",
       "  </thead>\n",
       "  <tbody>\n",
       "    <tr>\n",
       "      <th>0</th>\n",
       "      <td>0</td>\n",
       "      <td>0</td>\n",
       "    </tr>\n",
       "    <tr>\n",
       "      <th>1</th>\n",
       "      <td>1</td>\n",
       "      <td>0</td>\n",
       "    </tr>\n",
       "    <tr>\n",
       "      <th>2</th>\n",
       "      <td>2</td>\n",
       "      <td>2</td>\n",
       "    </tr>\n",
       "    <tr>\n",
       "      <th>3</th>\n",
       "      <td>3</td>\n",
       "      <td>0</td>\n",
       "    </tr>\n",
       "  </tbody>\n",
       "</table>\n",
       "</div>"
      ],
      "text/plain": [
       "   flag  size\n",
       "0     0     0\n",
       "1     1     0\n",
       "2     2     2\n",
       "3     3     0"
      ]
     },
     "execution_count": 155,
     "metadata": {},
     "output_type": "execute_result"
    }
   ],
   "source": [
    "df"
   ]
  },
  {
   "cell_type": "code",
   "execution_count": 292,
   "metadata": {},
   "outputs": [
    {
     "data": {
      "text/plain": [
       "0.013"
      ]
     },
     "execution_count": 292,
     "metadata": {},
     "output_type": "execute_result"
    }
   ],
   "source": [
    "import random\n",
    "import math\n",
    "round(random.uniform(0.01,0.015),3)"
   ]
  },
  {
   "cell_type": "code",
   "execution_count": 293,
   "metadata": {},
   "outputs": [
    {
     "data": {
      "text/plain": [
       "True"
      ]
     },
     "execution_count": 293,
     "metadata": {},
     "output_type": "execute_result"
    }
   ],
   "source": [
    "math.isclose(0.1,0.1)"
   ]
  },
  {
   "cell_type": "code",
   "execution_count": 294,
   "metadata": {},
   "outputs": [
    {
     "ename": "TypeError",
     "evalue": "must be real number, not list",
     "output_type": "error",
     "traceback": [
      "\u001b[0;31m---------------------------------------------------------------------------\u001b[0m",
      "\u001b[0;31mTypeError\u001b[0m                                 Traceback (most recent call last)",
      "\u001b[0;32m<ipython-input-294-98d161e513b4>\u001b[0m in \u001b[0;36m<module>\u001b[0;34m\u001b[0m\n\u001b[0;32m----> 1\u001b[0;31m \u001b[0mmath\u001b[0m\u001b[0;34m.\u001b[0m\u001b[0misclose\u001b[0m\u001b[0;34m(\u001b[0m\u001b[0;34m[\u001b[0m\u001b[0;36m1\u001b[0m\u001b[0;34m,\u001b[0m\u001b[0;36m2\u001b[0m\u001b[0;34m]\u001b[0m\u001b[0;34m,\u001b[0m\u001b[0;34m[\u001b[0m\u001b[0;36m1\u001b[0m\u001b[0;34m,\u001b[0m\u001b[0;36m2\u001b[0m\u001b[0;34m]\u001b[0m\u001b[0;34m)\u001b[0m\u001b[0;34m\u001b[0m\u001b[0;34m\u001b[0m\u001b[0m\n\u001b[0m",
      "\u001b[0;31mTypeError\u001b[0m: must be real number, not list"
     ]
    }
   ],
   "source": [
    "math.isclose([1,2],[1,2])"
   ]
  },
  {
   "cell_type": "code",
   "execution_count": 297,
   "metadata": {},
   "outputs": [
    {
     "ename": "ValueError",
     "evalue": "The truth value of an array with more than one element is ambiguous. Use a.any() or a.all()",
     "output_type": "error",
     "traceback": [
      "\u001b[0;31m---------------------------------------------------------------------------\u001b[0m",
      "\u001b[0;31mValueError\u001b[0m                                Traceback (most recent call last)",
      "\u001b[0;32m<ipython-input-297-91f8d493cc84>\u001b[0m in \u001b[0;36m<module>\u001b[0;34m\u001b[0m\n\u001b[0;32m----> 1\u001b[0;31m \u001b[0;32mnot\u001b[0m \u001b[0mnp\u001b[0m\u001b[0;34m.\u001b[0m\u001b[0misclose\u001b[0m\u001b[0;34m(\u001b[0m\u001b[0;34m[\u001b[0m\u001b[0;36m1\u001b[0m\u001b[0;34m,\u001b[0m\u001b[0;36m2\u001b[0m\u001b[0;34m]\u001b[0m\u001b[0;34m,\u001b[0m\u001b[0;34m[\u001b[0m\u001b[0;36m1\u001b[0m\u001b[0;34m,\u001b[0m\u001b[0;36m2\u001b[0m\u001b[0;34m]\u001b[0m\u001b[0;34m)\u001b[0m\u001b[0;34m\u001b[0m\u001b[0;34m\u001b[0m\u001b[0m\n\u001b[0m",
      "\u001b[0;31mValueError\u001b[0m: The truth value of an array with more than one element is ambiguous. Use a.any() or a.all()"
     ]
    }
   ],
   "source": [
    "np.isclose([1,2],[1,2])"
   ]
  },
  {
   "cell_type": "code",
   "execution_count": 299,
   "metadata": {},
   "outputs": [
    {
     "data": {
      "text/plain": [
       "array([False, False])"
      ]
     },
     "execution_count": 299,
     "metadata": {},
     "output_type": "execute_result"
    }
   ],
   "source": [
    "np.logical_not(np.isclose([1,2],[1,2]))"
   ]
  },
  {
   "cell_type": "code",
   "execution_count": 300,
   "metadata": {},
   "outputs": [],
   "source": [
    "import xgboost"
   ]
  },
  {
   "cell_type": "code",
   "execution_count": 301,
   "metadata": {},
   "outputs": [
    {
     "name": "stdout",
     "output_type": "stream",
     "text": [
      "\u001b[34m__pycache__\u001b[m\u001b[m                    reinforcement_q_learning.ipynb\r\n",
      "backtest.py                    rl.ipynb\r\n",
      "bcfx-Copy1.ipynb               scrap.ipynb\r\n",
      "bcfx.ipynb                     \u001b[34mskynet\u001b[m\u001b[m\r\n",
      "bot.py                         ticker_history.ipynb\r\n",
      "nn.ipynb                       xgboost.ipynb\r\n"
     ]
    }
   ],
   "source": [
    "!ls"
   ]
  },
  {
   "cell_type": "code",
   "execution_count": 302,
   "metadata": {},
   "outputs": [],
   "source": [
    "import sys\n",
    "sys.path.append(\"./skynet/bf/bf/scripts/\")"
   ]
  },
  {
   "cell_type": "code",
   "execution_count": 304,
   "metadata": {},
   "outputs": [],
   "source": [
    "import utils\n",
    "import xgboost_ohlc"
   ]
  },
  {
   "cell_type": "code",
   "execution_count": 306,
   "metadata": {},
   "outputs": [
    {
     "name": "stdout",
     "output_type": "stream",
     "text": [
      "Fitting 5 folds for each of 18 candidates, totalling 90 fits\n"
     ]
    },
    {
     "name": "stderr",
     "output_type": "stream",
     "text": [
      "[Parallel(n_jobs=1)]: Using backend SequentialBackend with 1 concurrent workers.\n",
      "[Parallel(n_jobs=1)]: Done  90 out of  90 | elapsed:  2.1min finished\n"
     ]
    }
   ],
   "source": [
    "ohlc = utils.get_ohlc(periods=300,datasize=5000)\n",
    "ohlc, data_columns, target_columns = utils.shaping_ohlc(ohlc,drop=False)\n",
    "xgbc = xgboost_ohlc.c_fit(ohlc[data_columns],ohlc['Class'])"
   ]
  },
  {
   "cell_type": "code",
   "execution_count": 307,
   "metadata": {},
   "outputs": [
    {
     "data": {
      "text/html": [
       "<div>\n",
       "<style scoped>\n",
       "    .dataframe tbody tr th:only-of-type {\n",
       "        vertical-align: middle;\n",
       "    }\n",
       "\n",
       "    .dataframe tbody tr th {\n",
       "        vertical-align: top;\n",
       "    }\n",
       "\n",
       "    .dataframe thead th {\n",
       "        text-align: right;\n",
       "    }\n",
       "</style>\n",
       "<table border=\"1\" class=\"dataframe\">\n",
       "  <thead>\n",
       "    <tr style=\"text-align: right;\">\n",
       "      <th></th>\n",
       "      <th>timestamp</th>\n",
       "      <th>Open</th>\n",
       "      <th>High</th>\n",
       "      <th>Low</th>\n",
       "      <th>Close</th>\n",
       "      <th>O/O</th>\n",
       "      <th>H/O</th>\n",
       "      <th>L/O</th>\n",
       "      <th>C/O</th>\n",
       "      <th>O/C</th>\n",
       "      <th>...</th>\n",
       "      <th>Target_Low</th>\n",
       "      <th>Target_Close</th>\n",
       "      <th>TO/O</th>\n",
       "      <th>TH/O</th>\n",
       "      <th>TL/O</th>\n",
       "      <th>TC/O</th>\n",
       "      <th>TH/C</th>\n",
       "      <th>TL/C</th>\n",
       "      <th>TC/C</th>\n",
       "      <th>Class</th>\n",
       "    </tr>\n",
       "  </thead>\n",
       "  <tbody>\n",
       "    <tr>\n",
       "      <th>0</th>\n",
       "      <td>1.598737e+09</td>\n",
       "      <td>1231710.0</td>\n",
       "      <td>1231888.0</td>\n",
       "      <td>1231173.0</td>\n",
       "      <td>1231377.0</td>\n",
       "      <td>1.0</td>\n",
       "      <td>1.000145</td>\n",
       "      <td>0.999564</td>\n",
       "      <td>0.999730</td>\n",
       "      <td>1.000270</td>\n",
       "      <td>...</td>\n",
       "      <td>1231000.0</td>\n",
       "      <td>1231815.0</td>\n",
       "      <td>0.999722</td>\n",
       "      <td>1.000257</td>\n",
       "      <td>0.999424</td>\n",
       "      <td>1.000085</td>\n",
       "      <td>1.000527</td>\n",
       "      <td>0.999694</td>\n",
       "      <td>1.000356</td>\n",
       "      <td>1</td>\n",
       "    </tr>\n",
       "    <tr>\n",
       "      <th>1</th>\n",
       "      <td>1.598738e+09</td>\n",
       "      <td>1231368.0</td>\n",
       "      <td>1232026.0</td>\n",
       "      <td>1231000.0</td>\n",
       "      <td>1231815.0</td>\n",
       "      <td>1.0</td>\n",
       "      <td>1.000534</td>\n",
       "      <td>0.999701</td>\n",
       "      <td>1.000363</td>\n",
       "      <td>0.999637</td>\n",
       "      <td>...</td>\n",
       "      <td>1231176.0</td>\n",
       "      <td>1231315.0</td>\n",
       "      <td>1.000369</td>\n",
       "      <td>1.000850</td>\n",
       "      <td>0.999844</td>\n",
       "      <td>0.999957</td>\n",
       "      <td>1.000487</td>\n",
       "      <td>0.999481</td>\n",
       "      <td>0.999594</td>\n",
       "      <td>0</td>\n",
       "    </tr>\n",
       "    <tr>\n",
       "      <th>2</th>\n",
       "      <td>1.598738e+09</td>\n",
       "      <td>1231822.0</td>\n",
       "      <td>1232415.0</td>\n",
       "      <td>1231176.0</td>\n",
       "      <td>1231315.0</td>\n",
       "      <td>1.0</td>\n",
       "      <td>1.000481</td>\n",
       "      <td>0.999476</td>\n",
       "      <td>0.999588</td>\n",
       "      <td>1.000412</td>\n",
       "      <td>...</td>\n",
       "      <td>1231083.0</td>\n",
       "      <td>1231185.0</td>\n",
       "      <td>0.999587</td>\n",
       "      <td>0.999739</td>\n",
       "      <td>0.999400</td>\n",
       "      <td>0.999483</td>\n",
       "      <td>1.000150</td>\n",
       "      <td>0.999812</td>\n",
       "      <td>0.999894</td>\n",
       "      <td>0</td>\n",
       "    </tr>\n",
       "    <tr>\n",
       "      <th>3</th>\n",
       "      <td>1.598738e+09</td>\n",
       "      <td>1231313.0</td>\n",
       "      <td>1231500.0</td>\n",
       "      <td>1231083.0</td>\n",
       "      <td>1231185.0</td>\n",
       "      <td>1.0</td>\n",
       "      <td>1.000152</td>\n",
       "      <td>0.999813</td>\n",
       "      <td>0.999896</td>\n",
       "      <td>1.000104</td>\n",
       "      <td>...</td>\n",
       "      <td>1230863.0</td>\n",
       "      <td>1231904.0</td>\n",
       "      <td>0.999903</td>\n",
       "      <td>1.000480</td>\n",
       "      <td>0.999635</td>\n",
       "      <td>1.000480</td>\n",
       "      <td>1.000584</td>\n",
       "      <td>0.999738</td>\n",
       "      <td>1.000584</td>\n",
       "      <td>1</td>\n",
       "    </tr>\n",
       "    <tr>\n",
       "      <th>4</th>\n",
       "      <td>1.598738e+09</td>\n",
       "      <td>1231194.0</td>\n",
       "      <td>1231904.0</td>\n",
       "      <td>1230863.0</td>\n",
       "      <td>1231904.0</td>\n",
       "      <td>1.0</td>\n",
       "      <td>1.000577</td>\n",
       "      <td>0.999731</td>\n",
       "      <td>1.000577</td>\n",
       "      <td>0.999424</td>\n",
       "      <td>...</td>\n",
       "      <td>1230306.0</td>\n",
       "      <td>1230400.0</td>\n",
       "      <td>1.000620</td>\n",
       "      <td>1.000682</td>\n",
       "      <td>0.999279</td>\n",
       "      <td>0.999355</td>\n",
       "      <td>1.000106</td>\n",
       "      <td>0.998703</td>\n",
       "      <td>0.998779</td>\n",
       "      <td>0</td>\n",
       "    </tr>\n",
       "    <tr>\n",
       "      <th>...</th>\n",
       "      <td>...</td>\n",
       "      <td>...</td>\n",
       "      <td>...</td>\n",
       "      <td>...</td>\n",
       "      <td>...</td>\n",
       "      <td>...</td>\n",
       "      <td>...</td>\n",
       "      <td>...</td>\n",
       "      <td>...</td>\n",
       "      <td>...</td>\n",
       "      <td>...</td>\n",
       "      <td>...</td>\n",
       "      <td>...</td>\n",
       "      <td>...</td>\n",
       "      <td>...</td>\n",
       "      <td>...</td>\n",
       "      <td>...</td>\n",
       "      <td>...</td>\n",
       "      <td>...</td>\n",
       "      <td>...</td>\n",
       "      <td>...</td>\n",
       "    </tr>\n",
       "    <tr>\n",
       "      <th>4966</th>\n",
       "      <td>1.600236e+09</td>\n",
       "      <td>1144483.0</td>\n",
       "      <td>1144943.0</td>\n",
       "      <td>1143634.0</td>\n",
       "      <td>1144252.0</td>\n",
       "      <td>1.0</td>\n",
       "      <td>1.000402</td>\n",
       "      <td>0.999258</td>\n",
       "      <td>0.999798</td>\n",
       "      <td>1.000202</td>\n",
       "      <td>...</td>\n",
       "      <td>1144120.0</td>\n",
       "      <td>1144909.0</td>\n",
       "      <td>0.999773</td>\n",
       "      <td>1.000838</td>\n",
       "      <td>0.999683</td>\n",
       "      <td>1.000372</td>\n",
       "      <td>1.001040</td>\n",
       "      <td>0.999885</td>\n",
       "      <td>1.000574</td>\n",
       "      <td>1</td>\n",
       "    </tr>\n",
       "    <tr>\n",
       "      <th>4967</th>\n",
       "      <td>1.600236e+09</td>\n",
       "      <td>1144223.0</td>\n",
       "      <td>1145442.0</td>\n",
       "      <td>1144120.0</td>\n",
       "      <td>1144909.0</td>\n",
       "      <td>1.0</td>\n",
       "      <td>1.001065</td>\n",
       "      <td>0.999910</td>\n",
       "      <td>1.000600</td>\n",
       "      <td>0.999401</td>\n",
       "      <td>...</td>\n",
       "      <td>1143517.0</td>\n",
       "      <td>1143672.0</td>\n",
       "      <td>1.000663</td>\n",
       "      <td>1.001050</td>\n",
       "      <td>0.999383</td>\n",
       "      <td>0.999518</td>\n",
       "      <td>1.000451</td>\n",
       "      <td>0.998784</td>\n",
       "      <td>0.998920</td>\n",
       "      <td>0</td>\n",
       "    </tr>\n",
       "    <tr>\n",
       "      <th>4968</th>\n",
       "      <td>1.600236e+09</td>\n",
       "      <td>1144982.0</td>\n",
       "      <td>1145425.0</td>\n",
       "      <td>1143517.0</td>\n",
       "      <td>1143672.0</td>\n",
       "      <td>1.0</td>\n",
       "      <td>1.000387</td>\n",
       "      <td>0.998721</td>\n",
       "      <td>0.998856</td>\n",
       "      <td>1.001145</td>\n",
       "      <td>...</td>\n",
       "      <td>1143435.0</td>\n",
       "      <td>1143571.0</td>\n",
       "      <td>0.998881</td>\n",
       "      <td>0.999140</td>\n",
       "      <td>0.998649</td>\n",
       "      <td>0.998768</td>\n",
       "      <td>1.000284</td>\n",
       "      <td>0.999793</td>\n",
       "      <td>0.999912</td>\n",
       "      <td>0</td>\n",
       "    </tr>\n",
       "    <tr>\n",
       "      <th>4969</th>\n",
       "      <td>1.600237e+09</td>\n",
       "      <td>1143701.0</td>\n",
       "      <td>1143997.0</td>\n",
       "      <td>1143435.0</td>\n",
       "      <td>1143571.0</td>\n",
       "      <td>1.0</td>\n",
       "      <td>1.000259</td>\n",
       "      <td>0.999767</td>\n",
       "      <td>0.999886</td>\n",
       "      <td>1.000114</td>\n",
       "      <td>...</td>\n",
       "      <td>1142779.0</td>\n",
       "      <td>1143375.0</td>\n",
       "      <td>0.999888</td>\n",
       "      <td>1.000227</td>\n",
       "      <td>0.999194</td>\n",
       "      <td>0.999715</td>\n",
       "      <td>1.000341</td>\n",
       "      <td>0.999307</td>\n",
       "      <td>0.999829</td>\n",
       "      <td>0</td>\n",
       "    </tr>\n",
       "    <tr>\n",
       "      <th>4970</th>\n",
       "      <td>1.600237e+09</td>\n",
       "      <td>1143573.0</td>\n",
       "      <td>1143961.0</td>\n",
       "      <td>1142779.0</td>\n",
       "      <td>1143375.0</td>\n",
       "      <td>1.0</td>\n",
       "      <td>1.000339</td>\n",
       "      <td>0.999306</td>\n",
       "      <td>0.999827</td>\n",
       "      <td>1.000173</td>\n",
       "      <td>...</td>\n",
       "      <td>NaN</td>\n",
       "      <td>NaN</td>\n",
       "      <td>NaN</td>\n",
       "      <td>NaN</td>\n",
       "      <td>NaN</td>\n",
       "      <td>NaN</td>\n",
       "      <td>NaN</td>\n",
       "      <td>NaN</td>\n",
       "      <td>NaN</td>\n",
       "      <td>0</td>\n",
       "    </tr>\n",
       "  </tbody>\n",
       "</table>\n",
       "<p>4971 rows × 96 columns</p>\n",
       "</div>"
      ],
      "text/plain": [
       "         timestamp       Open       High        Low      Close  O/O       H/O  \\\n",
       "0     1.598737e+09  1231710.0  1231888.0  1231173.0  1231377.0  1.0  1.000145   \n",
       "1     1.598738e+09  1231368.0  1232026.0  1231000.0  1231815.0  1.0  1.000534   \n",
       "2     1.598738e+09  1231822.0  1232415.0  1231176.0  1231315.0  1.0  1.000481   \n",
       "3     1.598738e+09  1231313.0  1231500.0  1231083.0  1231185.0  1.0  1.000152   \n",
       "4     1.598738e+09  1231194.0  1231904.0  1230863.0  1231904.0  1.0  1.000577   \n",
       "...            ...        ...        ...        ...        ...  ...       ...   \n",
       "4966  1.600236e+09  1144483.0  1144943.0  1143634.0  1144252.0  1.0  1.000402   \n",
       "4967  1.600236e+09  1144223.0  1145442.0  1144120.0  1144909.0  1.0  1.001065   \n",
       "4968  1.600236e+09  1144982.0  1145425.0  1143517.0  1143672.0  1.0  1.000387   \n",
       "4969  1.600237e+09  1143701.0  1143997.0  1143435.0  1143571.0  1.0  1.000259   \n",
       "4970  1.600237e+09  1143573.0  1143961.0  1142779.0  1143375.0  1.0  1.000339   \n",
       "\n",
       "           L/O       C/O       O/C  ...  Target_Low  Target_Close      TO/O  \\\n",
       "0     0.999564  0.999730  1.000270  ...   1231000.0     1231815.0  0.999722   \n",
       "1     0.999701  1.000363  0.999637  ...   1231176.0     1231315.0  1.000369   \n",
       "2     0.999476  0.999588  1.000412  ...   1231083.0     1231185.0  0.999587   \n",
       "3     0.999813  0.999896  1.000104  ...   1230863.0     1231904.0  0.999903   \n",
       "4     0.999731  1.000577  0.999424  ...   1230306.0     1230400.0  1.000620   \n",
       "...        ...       ...       ...  ...         ...           ...       ...   \n",
       "4966  0.999258  0.999798  1.000202  ...   1144120.0     1144909.0  0.999773   \n",
       "4967  0.999910  1.000600  0.999401  ...   1143517.0     1143672.0  1.000663   \n",
       "4968  0.998721  0.998856  1.001145  ...   1143435.0     1143571.0  0.998881   \n",
       "4969  0.999767  0.999886  1.000114  ...   1142779.0     1143375.0  0.999888   \n",
       "4970  0.999306  0.999827  1.000173  ...         NaN           NaN       NaN   \n",
       "\n",
       "          TH/O      TL/O      TC/O      TH/C      TL/C      TC/C  Class  \n",
       "0     1.000257  0.999424  1.000085  1.000527  0.999694  1.000356      1  \n",
       "1     1.000850  0.999844  0.999957  1.000487  0.999481  0.999594      0  \n",
       "2     0.999739  0.999400  0.999483  1.000150  0.999812  0.999894      0  \n",
       "3     1.000480  0.999635  1.000480  1.000584  0.999738  1.000584      1  \n",
       "4     1.000682  0.999279  0.999355  1.000106  0.998703  0.998779      0  \n",
       "...        ...       ...       ...       ...       ...       ...    ...  \n",
       "4966  1.000838  0.999683  1.000372  1.001040  0.999885  1.000574      1  \n",
       "4967  1.001050  0.999383  0.999518  1.000451  0.998784  0.998920      0  \n",
       "4968  0.999140  0.998649  0.998768  1.000284  0.999793  0.999912      0  \n",
       "4969  1.000227  0.999194  0.999715  1.000341  0.999307  0.999829      0  \n",
       "4970       NaN       NaN       NaN       NaN       NaN       NaN      0  \n",
       "\n",
       "[4971 rows x 96 columns]"
      ]
     },
     "execution_count": 307,
     "metadata": {},
     "output_type": "execute_result"
    }
   ],
   "source": [
    "ohlc"
   ]
  },
  {
   "cell_type": "code",
   "execution_count": 308,
   "metadata": {},
   "outputs": [
    {
     "data": {
      "text/plain": [
       "XGBClassifier(base_score=0.5, booster='gbtree', colsample_bylevel=1,\n",
       "              colsample_bynode=1, colsample_bytree=1, eta=0.05, gamma=0,\n",
       "              gpu_id=-1, importance_type='gain', interaction_constraints='',\n",
       "              learning_rate=0.0500000007, max_delta_step=0, max_depth=4,\n",
       "              min_child_weight=1, missing=nan, monotone_constraints='()',\n",
       "              n_estimators=100, n_jobs=0, num_parallel_tree=1, random_state=0,\n",
       "              reg_alpha=0, reg_lambda=1, scale_pos_weight=1, subsample=1,\n",
       "              tree_method='exact', validate_parameters=1, verbosity=None)"
      ]
     },
     "execution_count": 308,
     "metadata": {},
     "output_type": "execute_result"
    }
   ],
   "source": [
    "xgbc"
   ]
  },
  {
   "cell_type": "code",
   "execution_count": 316,
   "metadata": {},
   "outputs": [],
   "source": [
    "class Fish(object):\n",
    "    def __init__(self,name):\n",
    "        self.name = name\n",
    "        \n",
    "class Kingyo(Fish):\n",
    "    def call(self):\n",
    "        print(self.name)\n",
    "        print(self.name)"
   ]
  },
  {
   "cell_type": "code",
   "execution_count": 310,
   "metadata": {},
   "outputs": [],
   "source": [
    "f = Fish('sakana')"
   ]
  },
  {
   "cell_type": "code",
   "execution_count": 312,
   "metadata": {},
   "outputs": [
    {
     "data": {
      "text/plain": [
       "'sakana'"
      ]
     },
     "execution_count": 312,
     "metadata": {},
     "output_type": "execute_result"
    }
   ],
   "source": [
    "f.name"
   ]
  },
  {
   "cell_type": "code",
   "execution_count": 317,
   "metadata": {},
   "outputs": [],
   "source": [
    "ff = Kingyo('sakana')"
   ]
  },
  {
   "cell_type": "code",
   "execution_count": 318,
   "metadata": {},
   "outputs": [
    {
     "data": {
      "text/plain": [
       "'sakana'"
      ]
     },
     "execution_count": 318,
     "metadata": {},
     "output_type": "execute_result"
    }
   ],
   "source": [
    "ff.name"
   ]
  },
  {
   "cell_type": "code",
   "execution_count": 319,
   "metadata": {},
   "outputs": [
    {
     "name": "stdout",
     "output_type": "stream",
     "text": [
      "sakana\n",
      "sakana\n"
     ]
    }
   ],
   "source": [
    "ff.call()"
   ]
  },
  {
   "cell_type": "code",
   "execution_count": 339,
   "metadata": {},
   "outputs": [],
   "source": [
    "a = pd.DataFrame([])"
   ]
  },
  {
   "cell_type": "code",
   "execution_count": 340,
   "metadata": {},
   "outputs": [],
   "source": [
    "a['price'] = [1,2,3,4,5]\n",
    "a['size'] = [10,9,8,5,8]"
   ]
  },
  {
   "cell_type": "code",
   "execution_count": 345,
   "metadata": {},
   "outputs": [
    {
     "data": {
      "text/plain": [
       "1"
      ]
     },
     "execution_count": 345,
     "metadata": {},
     "output_type": "execute_result"
    }
   ],
   "source": [
    "a.at[a['size'].idxmax(),'price']"
   ]
  },
  {
   "cell_type": "code",
   "execution_count": 346,
   "metadata": {},
   "outputs": [
    {
     "data": {
      "text/html": [
       "<div>\n",
       "<style scoped>\n",
       "    .dataframe tbody tr th:only-of-type {\n",
       "        vertical-align: middle;\n",
       "    }\n",
       "\n",
       "    .dataframe tbody tr th {\n",
       "        vertical-align: top;\n",
       "    }\n",
       "\n",
       "    .dataframe thead th {\n",
       "        text-align: right;\n",
       "    }\n",
       "</style>\n",
       "<table border=\"1\" class=\"dataframe\">\n",
       "  <thead>\n",
       "    <tr style=\"text-align: right;\">\n",
       "      <th></th>\n",
       "      <th>price</th>\n",
       "      <th>size</th>\n",
       "    </tr>\n",
       "  </thead>\n",
       "  <tbody>\n",
       "    <tr>\n",
       "      <th>0</th>\n",
       "      <td>1</td>\n",
       "      <td>10</td>\n",
       "    </tr>\n",
       "    <tr>\n",
       "      <th>1</th>\n",
       "      <td>2</td>\n",
       "      <td>9</td>\n",
       "    </tr>\n",
       "    <tr>\n",
       "      <th>2</th>\n",
       "      <td>3</td>\n",
       "      <td>8</td>\n",
       "    </tr>\n",
       "    <tr>\n",
       "      <th>3</th>\n",
       "      <td>4</td>\n",
       "      <td>5</td>\n",
       "    </tr>\n",
       "    <tr>\n",
       "      <th>4</th>\n",
       "      <td>5</td>\n",
       "      <td>8</td>\n",
       "    </tr>\n",
       "  </tbody>\n",
       "</table>\n",
       "</div>"
      ],
      "text/plain": [
       "   price  size\n",
       "0      1    10\n",
       "1      2     9\n",
       "2      3     8\n",
       "3      4     5\n",
       "4      5     8"
      ]
     },
     "execution_count": 346,
     "metadata": {},
     "output_type": "execute_result"
    }
   ],
   "source": [
    "a"
   ]
  },
  {
   "cell_type": "code",
   "execution_count": 347,
   "metadata": {},
   "outputs": [
    {
     "data": {
      "text/plain": [
       "<pybitflyer.pybitflyer.API at 0x126bb6550>"
      ]
     },
     "execution_count": 347,
     "metadata": {},
     "output_type": "execute_result"
    }
   ],
   "source": [
    "pyb"
   ]
  },
  {
   "cell_type": "code",
   "execution_count": 348,
   "metadata": {},
   "outputs": [],
   "source": [
    "last = 1104500\n",
    "result = pyb.sendparentorder(\n",
    "      order_method =  \"IFDOCO\",\n",
    "      minute_to_expire = 100,\n",
    "      time_in_force = \"GTC\",\n",
    "      parameters = [{\n",
    "        \"product_code\": \"FX_BTC_JPY\",\n",
    "        \"condition_type\": \"LIMIT\",\n",
    "        \"side\": \"BUY\",\n",
    "        \"price\": last+200,\n",
    "        \"size\": 0.01\n",
    "      },\n",
    "      {\n",
    "        \"product_code\": \"FX_BTC_JPY\",\n",
    "        \"condition_type\": \"LIMIT\",\n",
    "        \"side\": \"SELL\",\n",
    "        \"price\": int(last*1.0001),\n",
    "        \"size\": 0.01\n",
    "      },\n",
    "      {\n",
    "        \"product_code\": \"FX_BTC_JPY\",\n",
    "        \"condition_type\": \"STOP\",\n",
    "        \"side\": \"SELL\",\n",
    "        \"trigger_price\": int(last*0.9999),\n",
    "        \"size\": 0.01\n",
    "      }]\n",
    "    )"
   ]
  },
  {
   "cell_type": "code",
   "execution_count": 349,
   "metadata": {},
   "outputs": [
    {
     "data": {
      "text/plain": [
       "{'parent_order_acceptance_id': 'JRF20200922-103846-204880'}"
      ]
     },
     "execution_count": 349,
     "metadata": {},
     "output_type": "execute_result"
    }
   ],
   "source": [
    "result"
   ]
  }
 ],
 "metadata": {
  "kernelspec": {
   "display_name": "Python 3",
   "language": "python",
   "name": "python3"
  },
  "language_info": {
   "codemirror_mode": {
    "name": "ipython",
    "version": 3
   },
   "file_extension": ".py",
   "mimetype": "text/x-python",
   "name": "python",
   "nbconvert_exporter": "python",
   "pygments_lexer": "ipython3",
   "version": "3.8.0"
  }
 },
 "nbformat": 4,
 "nbformat_minor": 4
}
