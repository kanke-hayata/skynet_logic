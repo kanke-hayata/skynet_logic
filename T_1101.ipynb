{
 "cells": [
  {
   "cell_type": "code",
   "execution_count": null,
   "metadata": {},
   "outputs": [],
   "source": [
    "#４択にしたけど損失関数的にうまく予測しない．エッジに対しての予測性能が下がる"
   ]
  },
  {
   "cell_type": "code",
   "execution_count": 37,
   "metadata": {},
   "outputs": [],
   "source": [
    "import pandas as pd\n",
    "import matplotlib.pyplot as plt\n",
    "import pickle\n",
    "import xgboost\n",
    "import sys\n",
    "sys.path.append(\"./skynet/bf/src/scripts/\")\n",
    "import xgboost_ohlc\n",
    "import utils\n",
    "import numpy as np\n",
    "import seaborn as sns\n",
    "import talib\n",
    "import datetime\n",
    "import requests\n",
    "import time\n",
    "%matplotlib inline\n",
    "\n",
    "pd.set_option('display.max_columns', 300)\n",
    "pd.set_option('display.max_rows', 500)"
   ]
  },
  {
   "cell_type": "code",
   "execution_count": 38,
   "metadata": {},
   "outputs": [],
   "source": [
    "hour = pd.read_csv('skynet/bf/data/processed/hour.csv')[-10000:]"
   ]
  },
  {
   "cell_type": "code",
   "execution_count": 39,
   "metadata": {},
   "outputs": [],
   "source": [
    "hour['Target_Class'] = 0\n",
    "hour.loc[(hour['Target_C/C'] >= hour['Target_C/C'].quantile(0.25)).values,'Target_Class'] = 1\n",
    "hour.loc[(hour['Target_C/C'] >= hour['Target_C/C'].quantile(0.50)).values,'Target_Class'] = 2\n",
    "hour.loc[(hour['Target_C/C'] >= hour['Target_C/C'].quantile(0.75)).values,'Target_Class'] = 3"
   ]
  },
  {
   "cell_type": "code",
   "execution_count": 41,
   "metadata": {},
   "outputs": [
    {
     "name": "stdout",
     "output_type": "stream",
     "text": [
      "Fitting 5 folds for each of 5 candidates, totalling 25 fits\n"
     ]
    },
    {
     "name": "stderr",
     "output_type": "stream",
     "text": [
      "[Parallel(n_jobs=1)]: Using backend SequentialBackend with 1 concurrent workers.\n",
      "[Parallel(n_jobs=1)]: Done  25 out of  25 | elapsed:    6.8s finished\n"
     ]
    },
    {
     "name": "stdout",
     "output_type": "stream",
     "text": [
      "0.0\n"
     ]
    }
   ],
   "source": [
    "data_columns = ['MACDS/O','UP','FirstUP','C/O','C-1/C','H/O','L/O']\n",
    "target_column = 'Target_Class'\n",
    "backtest_columns = ['timestamp','Target_Close','Target_Open','Close','Open']\n",
    "\n",
    "hour_for_ml = hour[data_columns+[target_column]+backtest_columns].dropna()\n",
    "train = hour_for_ml[-5000:-1000]\n",
    "test = hour_for_ml[-1000:]\n",
    "backtest = hour_for_ml[-1000:]\n",
    "all_data = hour_for_ml[-5000:]\n",
    "\n",
    "data_train = train[data_columns]\n",
    "data_test = test[data_columns]\n",
    "\n",
    "\n",
    "target_train = train[target_column]\n",
    "target_test = test[target_column]\n",
    "\n",
    "\n",
    "xgbr = xgboost_ohlc.r_fit(data_train, target_train)\n",
    "\n",
    "predict = xgbr.predict(data_test)\n",
    "p = predict >= 1.00000\n",
    "result = (predict == target_test.values)\n",
    "print(result.mean())\n",
    "\n",
    "#xgbr_all_data = xgboost_ohlc.r_fit(all_data[data_columns],all_data[target_column])\n",
    "xgbr_all_data = xgbr\n",
    "version = '1100'\n",
    "train.to_csv(\"skynet/bf/model/T_\"+version+\"/train.csv\")\n",
    "test.to_csv(\"skynet/bf/model/T_\"+version+\"/test.csv\")\n",
    "backtest.to_csv(\"skynet/bf/model/T_\"+version+\"/backtest.csv\")\n",
    "pickle.dump(xgbr_all_data, open(\"skynet/bf/model/T_\"+version+\"/xgbr.pickle\", \"wb\"))\n",
    "with open(\"skynet/bf/model/T_\"+version+\"/spec.txt\", mode=\"w\") as txt:\n",
    "    txt.write(str(datetime.datetime.now())+'\\n')\n",
    "    txt.write('data_columns: '+str(data_columns)+\"\\n\")\n",
    "    txt.write('target_column: '+str(target_column)+\"\\n\")\n",
    "    txt.write('simplescore: '+str(result.mean())+\"\\n\")"
   ]
  },
  {
   "cell_type": "code",
   "execution_count": 45,
   "metadata": {},
   "outputs": [
    {
     "data": {
      "text/plain": [
       "2    323\n",
       "1    306\n",
       "3    196\n",
       "0    175\n",
       "Name: Target_Class, dtype: int64"
      ]
     },
     "execution_count": 45,
     "metadata": {},
     "output_type": "execute_result"
    }
   ],
   "source": [
    "target_test.value_counts()"
   ]
  },
  {
   "cell_type": "code",
   "execution_count": 42,
   "metadata": {},
   "outputs": [
    {
     "data": {
      "text/plain": [
       "array([1.6683875 , 1.2364788 , 1.3216243 , 1.5063554 , 1.3351175 ,\n",
       "       1.4476922 , 1.7936889 , 1.2029738 , 0.86966074, 1.8925687 ,\n",
       "       1.1825945 , 1.5180506 , 2.060597  , 1.3142312 , 1.6659741 ,\n",
       "       1.347668  , 1.3862206 , 1.568697  , 1.4000337 , 1.8631675 ,\n",
       "       1.1774756 , 1.6691548 , 1.318032  , 1.250659  , 1.9162202 ,\n",
       "       1.5016713 , 1.8492866 , 1.4244826 , 1.5676218 , 1.3359127 ,\n",
       "       1.3492308 , 1.4074721 , 1.5583261 , 1.3498678 , 1.2069695 ,\n",
       "       1.5388898 , 1.3495724 , 1.6638316 , 1.6089731 , 1.5271939 ,\n",
       "       1.623881  , 0.6617117 , 1.7258373 , 1.2417519 , 1.4845399 ,\n",
       "       1.6689048 , 1.5085508 , 1.401193  , 1.2616976 , 1.6538858 ,\n",
       "       1.5503553 , 2.1524715 , 1.9953605 , 1.6821531 , 1.369713  ,\n",
       "       1.274224  , 0.9458176 , 1.9173734 , 1.5258427 , 1.8840185 ,\n",
       "       1.851355  , 1.5465513 , 1.3346174 , 1.4879496 , 1.6996768 ,\n",
       "       1.4145437 , 1.5243124 , 1.2674932 , 1.3508979 , 1.053669  ,\n",
       "       1.4947526 , 1.2897787 , 1.7469527 , 0.99612176, 1.6651878 ,\n",
       "       1.2728086 , 1.3990345 , 1.090035  , 1.5404073 , 1.4400766 ,\n",
       "       1.2286394 , 1.5182048 , 1.36483   , 1.6525707 , 1.2851379 ,\n",
       "       1.4728348 , 1.9761046 , 0.8347626 , 1.3075683 , 1.6569554 ,\n",
       "       1.6103388 , 1.5303963 , 1.6577598 , 1.6485455 , 1.3385192 ,\n",
       "       1.3940828 , 1.8045188 , 1.6166663 , 1.6439129 , 1.9776872 ,\n",
       "       1.6166911 , 1.5516552 , 1.1606821 , 1.3308766 , 1.2421172 ,\n",
       "       1.2588035 , 1.0970547 , 1.7421191 , 1.6717261 , 1.5617093 ,\n",
       "       1.4134976 , 1.5492454 , 1.3133829 , 1.1391671 , 1.2692368 ,\n",
       "       1.3975344 , 1.4489888 , 1.9540381 , 0.9948924 , 1.5255873 ,\n",
       "       1.7658352 , 1.2527215 , 1.518251  , 1.7485384 , 1.6699537 ,\n",
       "       2.0220819 , 1.4353151 , 1.5637395 , 1.0056678 , 1.2066321 ,\n",
       "       1.7693632 , 2.1837356 , 2.0713828 , 1.7004973 , 1.4191667 ,\n",
       "       1.8301382 , 1.5008855 , 1.5383683 , 1.2120392 , 1.6033272 ,\n",
       "       1.4116247 , 1.7116438 , 0.7686865 , 1.5673087 , 1.8274827 ,\n",
       "       1.4489489 , 1.721269  , 1.5758951 , 2.1346617 , 1.8739759 ,\n",
       "       1.2321038 , 1.6823659 , 1.5566121 , 1.4097241 , 1.5369582 ,\n",
       "       1.4283376 , 1.6794226 , 1.5366563 , 1.3526232 , 1.4004905 ,\n",
       "       1.533549  , 1.2360547 , 1.642512  , 2.4571135 , 1.3060858 ,\n",
       "       0.52300406, 1.3734075 , 1.010329  , 1.0289202 , 1.4185019 ,\n",
       "       1.4878253 , 1.8139806 , 1.501522  , 1.5043465 , 1.7413414 ,\n",
       "       1.4132923 , 1.6465813 , 1.7633685 , 0.76684636, 1.4121172 ,\n",
       "       1.0990634 , 1.8245976 , 1.3176317 , 1.1658324 , 1.2419246 ,\n",
       "       1.1467764 , 1.9353336 , 0.7942107 , 1.372299  , 1.3765042 ,\n",
       "       1.351366  , 1.7968243 , 1.9556412 , 1.6244122 , 1.3400695 ,\n",
       "       1.5759892 , 1.3157063 , 1.7060205 , 1.8219258 , 2.1304493 ,\n",
       "       1.4891064 , 1.249481  , 1.2927067 , 1.6532203 , 1.5018194 ,\n",
       "       1.1873134 , 0.98260427, 1.7523576 , 1.283227  , 1.5218834 ,\n",
       "       1.3641884 , 1.5963074 , 1.5781385 , 1.4531188 , 1.1328444 ,\n",
       "       1.6749804 , 1.3548477 , 1.6978356 , 1.870915  , 1.3638513 ,\n",
       "       1.8184185 , 2.3035927 , 1.132915  , 1.6222862 , 1.1529121 ,\n",
       "       2.1975253 , 1.1383756 , 1.4312066 , 1.5203938 , 1.8929074 ,\n",
       "       1.712437  , 1.2494621 , 1.2958834 , 1.7618717 , 1.3155222 ,\n",
       "       2.179133  , 2.1314757 , 1.157248  , 1.6945657 , 1.3728671 ,\n",
       "       1.6191545 , 1.4388006 , 1.0804653 , 1.1041094 , 1.6791266 ,\n",
       "       1.6028118 , 1.2371951 , 1.5938989 , 1.2028643 , 1.1136701 ,\n",
       "       1.4335935 , 1.6902013 , 1.4139138 , 1.8594714 , 1.5135072 ,\n",
       "       1.667337  , 1.9186015 , 1.2476842 , 1.9079303 , 1.9789997 ,\n",
       "       1.9833283 , 1.2392035 , 1.8320036 , 1.2993547 , 1.3295231 ,\n",
       "       1.3166032 , 1.2825804 , 1.7449021 , 1.349772  , 1.8821081 ,\n",
       "       1.7680002 , 1.5276179 , 1.7140334 , 1.3467789 , 1.4101899 ,\n",
       "       1.5968249 , 1.4361026 , 1.41769   , 1.2946448 , 1.6118187 ,\n",
       "       0.74083877, 1.500481  , 1.5804757 , 1.3457997 , 1.1427917 ,\n",
       "       1.7861035 , 1.381237  , 1.5360271 , 1.3909521 , 1.9350859 ,\n",
       "       1.2948323 , 1.4028771 , 1.9366165 , 1.3330877 , 1.5137807 ,\n",
       "       1.3310561 , 1.7774845 , 1.5624387 , 1.3955904 , 1.2816973 ,\n",
       "       1.441685  , 1.7570785 , 1.5772848 , 1.4261668 , 2.105187  ,\n",
       "       2.2094364 , 1.7104896 , 1.8741482 , 1.5607486 , 1.2365284 ,\n",
       "       1.3544126 , 1.7251474 , 1.3815398 , 1.8068695 , 2.4949937 ,\n",
       "       1.5733423 , 1.3205132 , 2.3696203 , 1.1747499 , 1.3963642 ,\n",
       "       1.0644524 , 1.4345186 , 1.2781632 , 1.213945  , 1.8685591 ,\n",
       "       1.7288076 , 1.5295389 , 1.4401642 , 1.4644929 , 1.2951542 ,\n",
       "       1.4227769 , 1.1460888 , 1.7129825 , 2.1028035 , 1.4822633 ,\n",
       "       1.4407697 , 1.524236  , 1.569107  , 1.9024324 , 1.6046771 ,\n",
       "       1.381237  , 1.2320411 , 1.1601505 , 1.2693229 , 1.7621487 ,\n",
       "       3.3613613 , 1.5663248 , 1.8640175 , 1.4853075 , 1.405479  ,\n",
       "       1.3567226 , 1.9248407 , 1.3613087 , 1.1377438 , 1.2220151 ,\n",
       "       1.8434848 , 1.7294594 , 1.6907027 , 1.5319867 , 1.2150426 ,\n",
       "       1.2314374 , 1.297205  , 1.4119997 , 1.4420338 , 1.7182902 ,\n",
       "       2.056456  , 1.2443695 , 1.4250717 , 1.6694837 , 0.24342415,\n",
       "       1.9709944 , 1.6502689 , 1.2344515 , 2.0549147 , 1.1789045 ,\n",
       "       1.9543964 , 1.411509  , 1.6723272 , 1.5659015 , 1.4793776 ,\n",
       "       1.3083731 , 1.5196744 , 1.7143105 , 1.5290432 , 1.554908  ,\n",
       "       1.791677  , 1.5517358 , 1.2935874 , 1.3016744 , 1.9249974 ,\n",
       "       1.9792147 , 2.0644755 , 1.5220559 , 1.6956971 , 1.4798654 ,\n",
       "       1.409226  , 1.3665195 , 1.6498923 , 1.3979194 , 2.0902858 ,\n",
       "       0.71239364, 1.4424552 , 1.2001795 , 1.5558189 , 1.7205755 ,\n",
       "       1.4529905 , 1.8520895 , 1.5093768 , 0.95945966, 1.5044264 ,\n",
       "       1.6602005 , 1.5144336 , 1.8273019 , 1.423554  , 0.98484546,\n",
       "       1.3134187 , 1.9276702 , 1.4574051 , 1.3379753 , 1.3630953 ,\n",
       "       2.8063464 , 1.4417129 , 1.3896863 , 1.5645174 , 1.7012922 ,\n",
       "       1.506823  , 1.712437  , 0.70340186, 1.5127653 , 1.5962235 ,\n",
       "       1.6153038 , 1.6726084 , 1.6041127 , 1.3715628 , 1.4288588 ,\n",
       "       1.326077  , 0.98536557, 1.6548538 , 0.8183997 , 1.6499487 ,\n",
       "       1.2861736 , 0.8966187 , 1.7019166 , 1.5008855 , 1.431416  ,\n",
       "       1.587744  , 0.7497866 , 2.2290874 , 1.5548662 , 1.310433  ,\n",
       "       0.96080434, 1.595139  , 1.53591   , 1.6060735 , 2.0945888 ,\n",
       "       1.7241443 , 1.2470076 , 1.7060342 , 1.3471684 , 1.6532865 ,\n",
       "       1.5611198 , 1.7928531 , 1.8727574 , 1.2908835 , 1.5848821 ,\n",
       "       0.9004236 , 1.6618124 , 1.1353691 , 1.4503367 , 0.5024338 ,\n",
       "       1.739488  , 1.5629058 , 1.4722612 , 1.5725763 , 1.7694966 ,\n",
       "       1.5558189 , 1.6856568 , 1.6230378 , 1.8235177 , 1.466572  ,\n",
       "       1.0551635 , 1.7221695 , 1.6703563 , 1.5255839 , 1.3620708 ,\n",
       "       1.3861439 , 1.9927205 , 1.3781011 , 1.5517904 , 1.242476  ,\n",
       "       1.5944211 , 1.4217571 , 1.1016916 , 1.4650501 , 1.5398388 ,\n",
       "       1.6237156 , 1.3959615 , 1.4452846 , 1.5590943 , 1.8119066 ,\n",
       "       1.3220978 , 1.6203942 , 1.5106119 , 1.768958  , 1.619309  ,\n",
       "       1.6836576 , 1.0027766 , 1.2758589 , 2.086783  , 1.2888472 ,\n",
       "       1.628862  , 1.5383164 , 1.3114464 , 1.4385419 , 1.4277582 ,\n",
       "       1.2475919 , 1.2595901 , 1.9720058 , 1.7392853 , 1.6957388 ,\n",
       "       1.3103346 , 1.5711108 , 1.7483425 , 1.7437869 , 1.4239237 ,\n",
       "       1.5088215 , 1.3119109 , 1.4866621 , 1.5806366 , 1.9937975 ,\n",
       "       1.5812559 , 1.8210698 , 1.722912  , 1.404829  , 1.079492  ,\n",
       "       1.6521732 , 1.6074421 , 1.0570706 , 1.6834823 , 1.5246665 ,\n",
       "       1.5306367 , 1.3726118 , 2.2555661 , 1.2908497 , 1.5641338 ,\n",
       "       1.585763  , 1.1111135 , 1.3181813 , 1.4621062 , 1.4014252 ,\n",
       "       1.2362614 , 0.8421066 , 1.6554213 , 1.6696377 , 1.5639879 ,\n",
       "       1.2520058 , 1.726613  , 1.5382239 , 1.4120269 , 1.6608065 ,\n",
       "       1.5748051 , 1.471113  , 1.3934623 , 1.8578743 , 1.6662774 ,\n",
       "       1.2867739 , 1.8155814 , 1.8183724 , 1.4139991 , 1.5436053 ,\n",
       "       1.5722029 , 2.0821776 , 1.6423948 , 0.04916969, 1.3681004 ,\n",
       "       0.68993753, 1.8644403 , 1.5351504 , 1.1927516 , 1.4213532 ,\n",
       "       1.6366318 , 1.1610441 , 1.3229246 , 1.9924023 , 1.5001647 ,\n",
       "       1.4584506 , 1.5862752 , 1.5532051 , 1.8009236 , 1.1617897 ,\n",
       "       1.6629653 , 1.7203    , 1.4502692 , 0.38933843, 1.2915683 ,\n",
       "       1.4678569 , 1.4273953 , 1.8573469 , 1.2728193 , 1.2540338 ,\n",
       "       1.5332189 , 1.7282132 , 1.2563386 , 1.2474426 , 1.0283699 ,\n",
       "       0.9806676 , 1.5742223 , 1.319028  , 1.114444  , 1.4831885 ,\n",
       "       1.4702971 , 1.2021309 , 1.5710229 , 1.1165566 , 1.6774422 ,\n",
       "       1.2183347 , 1.7570794 , 1.5618664 , 2.0943801 , 1.1721634 ,\n",
       "       1.8196346 , 1.6159425 , 1.6766697 , 1.2330879 , 1.042765  ,\n",
       "       1.552663  , 1.5993907 , 1.7080045 , 1.2907993 , 1.1584074 ,\n",
       "       1.3312368 , 1.5433567 , 2.0089018 , 1.7028326 , 1.7502124 ,\n",
       "       1.5963764 , 1.7302423 , 1.4712491 , 1.5193245 , 1.4741054 ,\n",
       "       1.2366055 , 1.7258037 , 1.5909631 , 1.7232879 , 1.4907807 ,\n",
       "       1.5226278 , 2.027163  , 1.4963175 , 2.1861534 , 1.6144112 ,\n",
       "       1.740403  , 1.9422857 , 1.3385091 , 1.0688194 , 1.4971399 ,\n",
       "       1.6382744 , 1.3788402 , 1.2896497 , 1.7664133 , 1.5831976 ,\n",
       "       1.1251905 , 2.0428786 , 1.5136582 , 1.7264832 , 1.5222994 ,\n",
       "       2.1829846 , 2.1438832 , 1.9528093 , 2.5561361 , 1.7949755 ,\n",
       "       1.5706428 , 1.6902318 , 1.2017891 , 1.6389608 , 1.4188058 ,\n",
       "       1.1007986 , 2.1274724 , 1.7050605 , 1.5264724 , 0.88573587,\n",
       "       1.6727008 , 1.6843692 , 1.7693259 , 1.2759684 , 1.724046  ,\n",
       "       1.4889569 , 1.751751  , 1.5691552 , 1.6221159 , 1.5930341 ,\n",
       "       1.6249467 , 1.376667  , 1.5406226 , 0.9167428 , 1.2747157 ,\n",
       "       1.1170623 , 1.4758517 , 1.8737615 , 1.5639616 , 1.2766418 ,\n",
       "       1.8245442 , 1.7912832 , 1.565247  , 1.3231041 , 1.6255488 ,\n",
       "       1.7292422 , 1.5285683 , 1.3512404 , 1.2636485 , 1.7269299 ,\n",
       "       1.5483536 , 1.8301406 , 1.5629058 , 1.3643126 , 1.2470037 ,\n",
       "       1.5148584 , 2.1909494 , 1.7290363 , 1.76126   , 1.7303531 ,\n",
       "       0.8544297 , 1.4857004 , 1.3928937 , 1.194837  , 1.6754371 ,\n",
       "       1.5182135 , 1.7811188 , 1.702035  , 1.5641338 , 1.4542491 ,\n",
       "       1.6234391 , 1.6404226 , 1.0861254 , 1.6344389 , 1.4879224 ,\n",
       "       1.4631838 , 1.976561  , 1.2173305 , 1.7983651 , 1.5711038 ,\n",
       "       1.1343677 , 1.6515006 , 1.5151956 , 1.7693548 , 0.6186125 ,\n",
       "       1.4475646 , 1.6872492 , 1.4067001 , 1.6718539 , 2.2361908 ,\n",
       "       1.6806889 , 1.6903863 , 1.1827857 , 1.7987466 , 1.4963627 ,\n",
       "       0.97585464, 1.7401326 , 2.0265942 , 1.778239  , 1.5060006 ,\n",
       "       1.0018871 , 1.2670633 , 1.4450803 , 1.3381786 , 1.6054424 ,\n",
       "       1.8069334 , 1.4410009 , 1.6193541 , 1.706693  , 1.5630858 ,\n",
       "       0.9380021 , 1.4042134 , 1.573693  , 1.497268  , 1.6968246 ,\n",
       "       1.6332055 , 1.653889  , 1.3280613 , 2.0130286 , 2.0521476 ,\n",
       "       0.965439  , 1.2634988 , 1.2915324 , 1.4377592 , 1.2620968 ,\n",
       "       1.6944808 , 1.7916617 , 1.2273388 , 1.7807667 , 0.8032721 ,\n",
       "       1.6825157 , 1.8109183 , 1.5208435 , 1.3947811 , 1.0180953 ,\n",
       "       1.435175  , 1.4934688 , 1.6005267 , 1.455288  , 1.4367692 ,\n",
       "       1.2710505 , 2.12007   , 1.5583692 , 1.8760911 , 1.324605  ,\n",
       "       1.6747421 , 1.1930505 , 1.3844485 , 1.8611152 , 1.526344  ,\n",
       "       1.1824753 , 1.4523258 , 0.95308155, 1.7429949 , 1.314187  ,\n",
       "       1.1929345 , 1.2465594 , 1.5481424 , 1.7491341 , 1.5775998 ,\n",
       "       0.75062174, 1.4024951 , 1.6921798 , 1.1595671 , 1.5616691 ,\n",
       "       1.6433272 , 1.5214511 , 1.1101124 , 1.5390296 , 1.1667063 ,\n",
       "       1.5389698 , 1.3920625 , 1.0329887 , 1.3673848 , 1.8887713 ,\n",
       "       1.5931878 , 1.4985002 , 1.4681742 , 1.9564666 , 1.5817623 ,\n",
       "       1.6744344 , 1.8626504 , 1.4169786 , 1.4742562 , 1.2762957 ,\n",
       "       1.6331303 , 1.469657  , 1.7376949 , 1.5129589 , 1.528819  ,\n",
       "       1.4653699 , 1.5464259 , 0.81678236, 1.4866371 , 2.0185049 ,\n",
       "       1.4002634 , 1.921955  , 1.9139627 , 1.3171811 , 1.8401914 ,\n",
       "       1.2531806 , 1.7137793 , 1.4563029 , 1.6906825 , 1.5429133 ,\n",
       "       1.365304  , 1.204439  , 1.8785931 , 1.5536177 , 1.857319  ,\n",
       "       1.2761486 , 1.2863866 , 1.3072891 , 0.5088788 , 1.9972236 ,\n",
       "       1.218544  , 1.5178016 , 1.6335448 , 0.9373182 , 1.9118444 ,\n",
       "       1.9380854 , 1.69951   , 1.9077991 , 1.4321141 , 1.5904033 ,\n",
       "       1.9169976 , 1.7761726 , 1.2461665 , 1.0608078 , 1.4489918 ,\n",
       "       1.2446499 , 1.4522469 , 1.5566399 , 0.20720911, 2.6574059 ,\n",
       "       2.1846757 , 1.8013762 , 0.89347696, 2.2901201 , 1.5438211 ,\n",
       "       1.7304885 , 1.6061542 , 1.688495  , 1.1839037 , 1.5446188 ,\n",
       "       1.0939548 , 1.5129453 , 1.5792751 , 1.2824183 , 1.4072368 ,\n",
       "       1.6056021 , 1.2524334 , 1.6539198 , 1.4272029 , 1.779358  ,\n",
       "       1.3362327 , 1.8297166 , 2.3034697 , 1.9276716 , 1.899225  ,\n",
       "       1.9973844 , 1.3858176 , 1.5688251 , 1.3382834 , 1.6048627 ,\n",
       "       1.7968667 , 1.5908864 , 1.3900398 , 1.4944503 , 1.3404708 ,\n",
       "       1.3794227 , 1.4083598 , 1.6947632 , 1.5002879 , 1.5074776 ,\n",
       "       1.5712457 , 1.7890699 , 0.481355  , 1.009249  , 1.621837  ,\n",
       "       1.7422143 , 1.7711464 , 1.4852386 , 1.5610186 , 1.3742942 ,\n",
       "       1.476964  , 1.6605135 , 1.2381295 , 1.4673333 , 1.0275764 ,\n",
       "       1.5248135 , 1.3147812 , 0.9536341 , 1.013407  , 1.3668678 ,\n",
       "       1.5359232 , 1.6318305 , 1.5526599 , 1.0878863 , 1.6563005 ,\n",
       "       1.520853  , 1.8582557 , 1.3915825 , 1.853306  , 1.9819627 ,\n",
       "       1.632469  , 1.2119336 , 1.2576689 , 1.9147933 , 1.5463239 ,\n",
       "       0.5765036 , 1.4566305 , 1.7789855 , 2.273943  , 1.3451445 ,\n",
       "       1.7388136 , 1.6653632 , 1.6301872 , 1.4904854 , 1.3884556 ,\n",
       "       1.930434  , 1.4437703 , 1.6158997 , 1.471889  , 1.5102376 ,\n",
       "       1.6559454 , 0.82687736, 1.5832572 , 1.2643436 , 1.7920156 ,\n",
       "       1.0588361 , 1.605979  , 1.3423948 , 1.5129466 , 1.5305305 ,\n",
       "       1.4493043 , 1.295506  , 1.6625222 , 1.9361556 , 0.7096462 ],\n",
       "      dtype=float32)"
      ]
     },
     "execution_count": 42,
     "metadata": {},
     "output_type": "execute_result"
    }
   ],
   "source": [
    "predict"
   ]
  },
  {
   "cell_type": "code",
   "execution_count": 51,
   "metadata": {},
   "outputs": [
    {
     "name": "stdout",
     "output_type": "stream",
     "text": [
      "345 3\n",
      "369\n",
      "420 3\n",
      "573\n",
      "593\n",
      "668 3\n",
      "893\n",
      "894 3\n",
      "937\n"
     ]
    }
   ],
   "source": [
    "for i,x in enumerate(predict.round()):\n",
    "    if x == 0:\n",
    "        print(i)\n",
    "    if x == 3:\n",
    "        print(i,'3')"
   ]
  },
  {
   "cell_type": "code",
   "execution_count": 52,
   "metadata": {},
   "outputs": [
    {
     "data": {
      "text/plain": [
       "1000"
      ]
     },
     "execution_count": 52,
     "metadata": {},
     "output_type": "execute_result"
    }
   ],
   "source": [
    "len(predict)"
   ]
  },
  {
   "cell_type": "code",
   "execution_count": 49,
   "metadata": {},
   "outputs": [
    {
     "data": {
      "text/plain": [
       "(array([0., 1., 2., 3.], dtype=float32), array([  5, 456, 535,   4]))"
      ]
     },
     "execution_count": 49,
     "metadata": {},
     "output_type": "execute_result"
    }
   ],
   "source": [
    "np.unique(predict.round(),return_counts=True)"
   ]
  },
  {
   "cell_type": "code",
   "execution_count": 3,
   "metadata": {},
   "outputs": [
    {
     "data": {
      "text/plain": [
       "[<matplotlib.lines.Line2D at 0x12f88d730>]"
      ]
     },
     "execution_count": 3,
     "metadata": {},
     "output_type": "execute_result"
    },
    {
     "data": {
      "image/png": "[encoded data removed]",
      "text/plain": [
       "<Figure size 432x288 with 1 Axes>"
      ]
     },
     "metadata": {
      "needs_background": "light"
     },
     "output_type": "display_data"
    }
   ],
   "source": [
    "plt.plot((0.01*(p*2-1)*(backtest['Target_Close']-backtest['Target_Open'])-1).cumsum())"
   ]
  },
  {
   "cell_type": "code",
   "execution_count": 52,
   "metadata": {},
   "outputs": [],
   "source": [
    "#########################################\n",
    "#########################################\n",
    "#########################################"
   ]
  },
  {
   "cell_type": "code",
   "execution_count": 36,
   "metadata": {},
   "outputs": [
    {
     "data": {
      "text/plain": [
       "2    323\n",
       "1    306\n",
       "3    196\n",
       "0    175\n",
       "Name: Target_Class, dtype: int64"
      ]
     },
     "execution_count": 36,
     "metadata": {},
     "output_type": "execute_result"
    }
   ],
   "source": [
    "target_test.value_counts()"
   ]
  }
 ],
 "metadata": {
  "kernelspec": {
   "display_name": "Python 3",
   "language": "python",
   "name": "python3"
  },
  "language_info": {
   "codemirror_mode": {
    "name": "ipython",
    "version": 3
   },
   "file_extension": ".py",
   "mimetype": "text/x-python",
   "name": "python",
   "nbconvert_exporter": "python",
   "pygments_lexer": "ipython3",
   "version": "3.8.0"
  }
 },
 "nbformat": 4,
 "nbformat_minor": 4
}
