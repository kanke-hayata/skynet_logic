{
 "cells": [
  {
   "cell_type": "code",
   "execution_count": 1,
   "metadata": {},
   "outputs": [],
   "source": [
    "import pandas as pd\n",
    "import matplotlib.pyplot as plt\n",
    "import pickle\n",
    "import xgboost\n",
    "import sys\n",
    "sys.path.append(\"./skynet/bf/src/scripts/\")\n",
    "import xgboost_ohlc\n",
    "import utils\n",
    "import numpy as np\n",
    "import seaborn as sns\n",
    "import talib\n",
    "import datetime\n",
    "import requests\n",
    "import time\n",
    "%matplotlib inline\n",
    "\n",
    "pd.set_option('display.max_columns', 300)\n",
    "pd.set_option('display.max_rows', 500)\n",
    "\n",
    "#one = pd.read_csv('skynet/bf/data/processed/min.csv')\n",
    "five = pd.read_csv('skynet/bf/data/processed/min_five.csv')\n",
    "#hour = pd.read_csv('skynet/bf/data/processed/hour.csv')"
   ]
  },
  {
   "cell_type": "code",
   "execution_count": 6,
   "metadata": {},
   "outputs": [
    {
     "name": "stdout",
     "output_type": "stream",
     "text": [
      "1448918700.0\n",
      "1603706400.0\n",
      "Fitting 5 folds for each of 5 candidates, totalling 25 fits\n"
     ]
    },
    {
     "name": "stderr",
     "output_type": "stream",
     "text": [
      "[Parallel(n_jobs=1)]: Using backend SequentialBackend with 1 concurrent workers.\n",
      "[Parallel(n_jobs=1)]: Done  25 out of  25 | elapsed:    2.0s finished\n",
      "[Parallel(n_jobs=1)]: Using backend SequentialBackend with 1 concurrent workers.\n"
     ]
    },
    {
     "name": "stdout",
     "output_type": "stream",
     "text": [
      "0.754\n",
      "Fitting 5 folds for each of 5 candidates, totalling 25 fits\n"
     ]
    },
    {
     "name": "stderr",
     "output_type": "stream",
     "text": [
      "[Parallel(n_jobs=1)]: Done  25 out of  25 | elapsed:    2.3s finished\n"
     ]
    }
   ],
   "source": [
    "five = pd.read_csv('skynet/bf/data/processed/min_five.csv')\n",
    "#data_columns = pd.Series(five.columns).apply(lambda x: x if 'Target' not in x else np.NaN).dropna().values\n",
    "data_columns = ['MACDS','UP','FirstUP','C/O','C-1/C','H/O','L/O']\n",
    "target_column = 'Target_C/O'\n",
    "backtest_columns = ['timestamp','Target_Close','Target_Open']\n",
    "\n",
    "five_for_ml = five[data_columns+[target_column]+backtest_columns].dropna()\n",
    "train = five_for_ml[-5000:-1000]\n",
    "test = five_for_ml[-1000:]\n",
    "backtest = five_for_ml[-1000:]\n",
    "all_data = five_for_ml[-5000:]\n",
    "print(five_for_ml['timestamp'].values[0])\n",
    "print(five_for_ml['timestamp'].values[-1])\n",
    "\n",
    "\n",
    "data_train = train[data_columns]\n",
    "data_test = test[data_columns]\n",
    "\n",
    "\n",
    "target_train = train[target_column]\n",
    "target_test = test[target_column]\n",
    "\n",
    "\n",
    "xgbr = xgboost_ohlc.r_fit(data_train, target_train)\n",
    "\n",
    "predict = xgbr.predict(data_test)\n",
    "p = predict >= 1.00000\n",
    "result = p == (target_test.values >= 1.0000)\n",
    "print(result.mean())\n",
    "\n",
    "xgbr_all_data = xgboost_ohlc.r_fit(all_data[data_columns],all_data[target_column])\n",
    "\n",
    "version = '1000'\n",
    "train.to_csv(\"skynet/bf/model/T_\"+version+\"/train.csv\")\n",
    "test.to_csv(\"skynet/bf/model/T_\"+version+\"/test.csv\")\n",
    "backtest.to_csv(\"skynet/bf/model/T_\"+version+\"/backtest.csv\")\n",
    "pickle.dump(xgbr_all_data, open(\"skynet/bf/model/T_\"+version+\"/xgbr.pickle\", \"wb\"))\n",
    "with open(\"skynet/bf/model/T_\"+version+\"/spec.txt\", mode=\"w\") as txt:\n",
    "    txt.write(str(datetime.datetime.now())+'\\n')\n",
    "    txt.write('data_columns: '+str(data_columns)+\"\\n\")\n",
    "    txt.write('target_column: '+str(target_column)+\"\\n\")\n",
    "    txt.write('simplescore: '+str(result.mean())+\"\\n\")"
   ]
  },
  {
   "cell_type": "code",
   "execution_count": 7,
   "metadata": {},
   "outputs": [
    {
     "data": {
      "text/plain": [
       "[<matplotlib.lines.Line2D at 0x12b6c2430>]"
      ]
     },
     "execution_count": 7,
     "metadata": {},
     "output_type": "execute_result"
    },
    {
     "data": {
      "image/png": "[encoded data removed]",
      "text/plain": [
       "<Figure size 432x288 with 1 Axes>"
      ]
     },
     "metadata": {
      "needs_background": "light"
     },
     "output_type": "display_data"
    }
   ],
   "source": [
    "plt.plot((0.01*(p*2-1)*(backtest['Target_Close']-backtest['Target_Open'])).cumsum())"
   ]
  },
  {
   "cell_type": "code",
   "execution_count": null,
   "metadata": {},
   "outputs": [],
   "source": [
    "#########################################\n",
    "#########################################\n",
    "#########################################"
   ]
  },
  {
   "cell_type": "code",
   "execution_count": null,
   "metadata": {},
   "outputs": [],
   "source": []
  }
 ],
 "metadata": {
  "kernelspec": {
   "display_name": "Python 3",
   "language": "python",
   "name": "python3"
  },
  "language_info": {
   "codemirror_mode": {
    "name": "ipython",
    "version": 3
   },
   "file_extension": ".py",
   "mimetype": "text/x-python",
   "name": "python",
   "nbconvert_exporter": "python",
   "pygments_lexer": "ipython3",
   "version": "3.8.0"
  }
 },
 "nbformat": 4,
 "nbformat_minor": 4
}
