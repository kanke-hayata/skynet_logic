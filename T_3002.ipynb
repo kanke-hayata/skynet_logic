{
 "cells": [
  {
   "cell_type": "code",
   "execution_count": 1,
   "metadata": {},
   "outputs": [],
   "source": [
    "import pandas as pd\n",
    "import matplotlib.pyplot as plt\n",
    "import pickle\n",
    "import xgboost\n",
    "import sys\n",
    "sys.path.append(\"./skynet/bf/src/scripts/\")\n",
    "import xgboost_ohlc\n",
    "import utils\n",
    "import numpy as np\n",
    "import seaborn as sns\n",
    "import talib\n",
    "import datetime\n",
    "import requests\n",
    "import time\n",
    "%matplotlib inline\n",
    "\n",
    "pd.set_option('display.max_columns', 300)\n",
    "pd.set_option('display.max_rows', 500)\n",
    "pd.options.display.precision = 10"
   ]
  },
  {
   "cell_type": "code",
   "execution_count": 10,
   "metadata": {},
   "outputs": [],
   "source": [
    "#5分足ml値幅予想やつ\n",
    "#戻ってくることを前提に指値ばらまきを一定間隔で仕掛ける"
   ]
  },
  {
   "cell_type": "code",
   "execution_count": 40,
   "metadata": {},
   "outputs": [],
   "source": [
    "version = '3002'\n",
    "data_size = 10000\n",
    "test_size = 1000"
   ]
  },
  {
   "cell_type": "code",
   "execution_count": 5,
   "metadata": {},
   "outputs": [],
   "source": [
    "five = pd.read_csv('skynet/bf/data/processed/min_five.csv')[-100000:]"
   ]
  },
  {
   "cell_type": "code",
   "execution_count": 42,
   "metadata": {},
   "outputs": [
    {
     "name": "stdout",
     "output_type": "stream",
     "text": [
      "Fitting 5 folds for each of 18 candidates, totalling 90 fits\n"
     ]
    },
    {
     "name": "stderr",
     "output_type": "stream",
     "text": [
      "[Parallel(n_jobs=1)]: Using backend SequentialBackend with 1 concurrent workers.\n",
      "[Parallel(n_jobs=1)]: Done  90 out of  90 | elapsed:   24.5s finished\n"
     ]
    },
    {
     "name": "stdout",
     "output_type": "stream",
     "text": [
      "0.579\n",
      "Fitting 5 folds for each of 18 candidates, totalling 90 fits\n"
     ]
    },
    {
     "name": "stderr",
     "output_type": "stream",
     "text": [
      "[Parallel(n_jobs=1)]: Using backend SequentialBackend with 1 concurrent workers.\n",
      "[Parallel(n_jobs=1)]: Done  90 out of  90 | elapsed:   28.2s finished\n"
     ]
    }
   ],
   "source": [
    "five = pd.read_csv('skynet/bf/data/processed/min_five.csv').dropna()\n",
    "five['Target_Convergence'] = ((five['C/O']-1).abs() < (five['C/O']-1).abs().sort_values().median()).shift(-1).astype(bool)\n",
    "data_columns = ['MACDS/O','RSI','ATR/O','Time','C/O','O-1/C','H/O','L/O']\n",
    "target_column = 'Target_Convergence'\n",
    "backtest_columns = ['Open','timestamp','Target_Close','Target_Open']\n",
    "\n",
    "five_for_ml = five[data_columns+[target_column]+backtest_columns].dropna()\n",
    "train = five_for_ml[-data_size:-test_size]\n",
    "test = five_for_ml[-test_size:]\n",
    "backtest = five_for_ml[-test_size:]\n",
    "all_data = five_for_ml[-data_size:]\n",
    "\n",
    "data_train = train[data_columns]\n",
    "data_test = test[data_columns]\n",
    "\n",
    "\n",
    "target_train = train[target_column]\n",
    "target_test = test[target_column]\n",
    "\n",
    "xgbc = xgboost_ohlc.c_fit(data_train, target_train)\n",
    "\n",
    "predict = xgbc.predict(data_test)\n",
    "print((predict == target_test).mean())\n",
    "\n",
    "xgbc_all_data = xgboost_ohlc.c_fit(all_data[data_columns],all_data[target_column])\n",
    "\n",
    "train.to_csv(\"skynet/bf/model/T_\"+version+\"/train.csv\")\n",
    "test.to_csv(\"skynet/bf/model/T_\"+version+\"/test.csv\")\n",
    "backtest.to_csv(\"skynet/bf/model/T_\"+version+\"/backtest.csv\")\n",
    "pickle.dump(xgbc_all_data, open(\"skynet/bf/model/T_\"+version+\"/xgbc_\"+i+\".pickle\", \"wb\"))\n",
    "with open(\"skynet/bf/model/T_\"+version+\"/spec.txt\", mode=\"w\") as txt:\n",
    "    txt.write(str(datetime.datetime.now())+'\\n')\n",
    "    txt.write('data_columns: '+str(data_columns)+\"\\n\")\n",
    "    txt.write('target_column: '+str(target_column)+\"\\n\")"
   ]
  },
  {
   "cell_type": "code",
   "execution_count": 44,
   "metadata": {},
   "outputs": [
    {
     "data": {
      "text/plain": [
       "<matplotlib.axes._subplots.AxesSubplot at 0x124cfd3d0>"
      ]
     },
     "execution_count": 44,
     "metadata": {},
     "output_type": "execute_result"
    },
    {
     "data": {
      "image/png": "[encoded data removed]",
      "text/plain": [
       "<Figure size 432x288 with 1 Axes>"
      ]
     },
     "metadata": {
      "needs_background": "light"
     },
     "output_type": "display_data"
    }
   ],
   "source": [
    "xgboost.plot_importance(xgbc)"
   ]
  },
  {
   "cell_type": "code",
   "execution_count": null,
   "metadata": {},
   "outputs": [],
   "source": [
    "#########################################\n",
    "#########################################\n",
    "#########################################"
   ]
  },
  {
   "cell_type": "code",
   "execution_count": null,
   "metadata": {},
   "outputs": [],
   "source": [
    "一分間で60回まで注文できる\n",
    "低く見積もって３０回とする\n",
    "bid,ask3幅ずつの12秒に一回注文で"
   ]
  },
  {
   "cell_type": "code",
   "execution_count": 3,
   "metadata": {},
   "outputs": [],
   "source": [
    "ohlc = utils.get_ohlc(periods=300,datasize=1000,api_key=False)"
   ]
  },
  {
   "cell_type": "code",
   "execution_count": 8,
   "metadata": {},
   "outputs": [
    {
     "data": {
      "text/plain": [
       "300"
      ]
     },
     "execution_count": 8,
     "metadata": {},
     "output_type": "execute_result"
    }
   ],
   "source": [
    "int(ohlc['timestamp'].diff().mode())"
   ]
  },
  {
   "cell_type": "code",
   "execution_count": 4,
   "metadata": {},
   "outputs": [],
   "source": [
    "c = ['MACDS/O','RSI','ATR/O','Time','C/O','O-1/C','H/O','L/O']\n",
    "ohlc = utils.shaping_ohlc(ohlc,c)"
   ]
  }
 ],
 "metadata": {
  "kernelspec": {
   "display_name": "Python 3",
   "language": "python",
   "name": "python3"
  },
  "language_info": {
   "codemirror_mode": {
    "name": "ipython",
    "version": 3
   },
   "file_extension": ".py",
   "mimetype": "text/x-python",
   "name": "python",
   "nbconvert_exporter": "python",
   "pygments_lexer": "ipython3",
   "version": "3.8.0"
  }
 },
 "nbformat": 4,
 "nbformat_minor": 4
}
